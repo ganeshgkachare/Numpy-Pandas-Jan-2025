{
 "cells": [
  {
   "cell_type": "markdown",
   "id": "0ab2dee6",
   "metadata": {},
   "source": [
    "# Numpy\n"
   ]
  },
  {
   "cell_type": "raw",
   "id": "50545281",
   "metadata": {},
   "source": [
    "NumPy is a Python package for scientific computing, particularly for numerical operations on large arrays and matrices."
   ]
  },
  {
   "cell_type": "code",
   "execution_count": null,
   "id": "b40ba9e2",
   "metadata": {},
   "outputs": [],
   "source": [
    "# pip install numpy # For installation\n",
    "# Syntax : pip install <package_name>  ==>used to install a package from the Python Package Index (PyPI) or other package repositories.\n",
    "# pip: package manager for Python that allows users to install and manage software packages written in Python."
   ]
  },
  {
   "cell_type": "code",
   "execution_count": 3,
   "id": "3709c71c",
   "metadata": {},
   "outputs": [],
   "source": [
    "import numpy as np  #import numpy\n",
    "\n",
    "# import            numpy             as   np   \n",
    "# keyword     library/modules name        alias "
   ]
  },
  {
   "cell_type": "code",
   "execution_count": null,
   "id": "a356b707",
   "metadata": {},
   "outputs": [],
   "source": [
    "# import numpy"
   ]
  },
  {
   "cell_type": "code",
   "execution_count": null,
   "id": "d28e6a60",
   "metadata": {},
   "outputs": [],
   "source": [
    "# numpy.array([1,2,3])"
   ]
  },
  {
   "cell_type": "code",
   "execution_count": null,
   "id": "ca353e66-44cc-4a5b-91d8-8f9c41f37cea",
   "metadata": {},
   "outputs": [],
   "source": [
    "# we cannot apply mathematical operators directly on lists. element-wise operations with lists require a bunch of code\n",
    "# we can apply mathematical operators directly on Array\n",
    "\n",
    "# List store elements of different data type\n",
    "# Array store elements of same data type (homogeneous)\n",
    "\n",
    "# NumPy operations are faster than standard Python lists."
   ]
  },
  {
   "cell_type": "code",
   "execution_count": 7,
   "id": "1dff42ad",
   "metadata": {},
   "outputs": [],
   "source": [
    "# Create array\n",
    "a=np.array([1,2,3,4])"
   ]
  },
  {
   "cell_type": "code",
   "execution_count": 8,
   "id": "0cbcae45",
   "metadata": {},
   "outputs": [
    {
     "name": "stdout",
     "output_type": "stream",
     "text": [
      "[1 2 3 4]\n"
     ]
    }
   ],
   "source": [
    "print(a)"
   ]
  },
  {
   "cell_type": "code",
   "execution_count": 9,
   "id": "f6300f61",
   "metadata": {},
   "outputs": [
    {
     "data": {
      "text/plain": [
       "numpy.ndarray"
      ]
     },
     "execution_count": 9,
     "metadata": {},
     "output_type": "execute_result"
    }
   ],
   "source": [
    "type(a)"
   ]
  },
  {
   "cell_type": "code",
   "execution_count": 10,
   "id": "b391313b-2bd8-4c82-96b1-bde9022ee770",
   "metadata": {},
   "outputs": [
    {
     "data": {
      "text/plain": [
       "4"
      ]
     },
     "execution_count": 10,
     "metadata": {},
     "output_type": "execute_result"
    }
   ],
   "source": [
    "len(a)"
   ]
  },
  {
   "cell_type": "code",
   "execution_count": 11,
   "id": "cf26c404-556e-472a-a6eb-38ac89d04281",
   "metadata": {},
   "outputs": [],
   "source": [
    "L=list(range(1,11))"
   ]
  },
  {
   "cell_type": "code",
   "execution_count": 12,
   "id": "89a9582f-31f4-4c61-b8ed-d72dc4dfc204",
   "metadata": {},
   "outputs": [
    {
     "data": {
      "text/plain": [
       "[1, 2, 3, 4, 5, 6, 7, 8, 9, 10]"
      ]
     },
     "execution_count": 12,
     "metadata": {},
     "output_type": "execute_result"
    }
   ],
   "source": [
    "L"
   ]
  },
  {
   "cell_type": "code",
   "execution_count": 13,
   "id": "8033b32c-8268-4b52-93b9-917239a0102d",
   "metadata": {},
   "outputs": [
    {
     "data": {
      "text/plain": [
       "10"
      ]
     },
     "execution_count": 13,
     "metadata": {},
     "output_type": "execute_result"
    }
   ],
   "source": [
    "len(L)"
   ]
  },
  {
   "cell_type": "code",
   "execution_count": 14,
   "id": "1f728327-a06c-4352-a1ed-f8d50cc36a57",
   "metadata": {},
   "outputs": [
    {
     "data": {
      "text/plain": [
       "list"
      ]
     },
     "execution_count": 14,
     "metadata": {},
     "output_type": "execute_result"
    }
   ],
   "source": [
    "type(L)"
   ]
  },
  {
   "cell_type": "code",
   "execution_count": 15,
   "id": "f5166ba3-a534-4d83-930d-61308683ffe9",
   "metadata": {},
   "outputs": [],
   "source": [
    "# Create array using list\n",
    "a=np.array(L)"
   ]
  },
  {
   "cell_type": "code",
   "execution_count": 16,
   "id": "58518cf9-9c70-42e5-87b7-9a08fa362272",
   "metadata": {},
   "outputs": [
    {
     "name": "stdout",
     "output_type": "stream",
     "text": [
      "[ 1  2  3  4  5  6  7  8  9 10]\n"
     ]
    }
   ],
   "source": [
    "print(a)"
   ]
  },
  {
   "cell_type": "code",
   "execution_count": null,
   "id": "4d518382-0b21-41f7-8e84-d6590a45972e",
   "metadata": {},
   "outputs": [],
   "source": [
    "# we cannot apply mathematical operators directly on lists. element-wise operations with lists require a bunch of code\n",
    "# we can apply mathematical operators directly on Array"
   ]
  },
  {
   "cell_type": "code",
   "execution_count": 17,
   "id": "1e807436-9032-422e-a451-95fcbad70422",
   "metadata": {},
   "outputs": [
    {
     "data": {
      "text/plain": [
       "[1, 2, 3, 4, 5, 6, 7, 8, 9, 10]"
      ]
     },
     "execution_count": 17,
     "metadata": {},
     "output_type": "execute_result"
    }
   ],
   "source": [
    "# List\n",
    "L"
   ]
  },
  {
   "cell_type": "code",
   "execution_count": 18,
   "id": "afc23851-26d9-4287-afdc-008a2dbfcc38",
   "metadata": {},
   "outputs": [
    {
     "data": {
      "text/plain": [
       "[1, 2, 3, 4, 5, 6, 7, 8, 9, 10, 1, 2, 3, 4, 5, 6, 7, 8, 9, 10]"
      ]
     },
     "execution_count": 18,
     "metadata": {},
     "output_type": "execute_result"
    }
   ],
   "source": [
    "L+L # This operation does not add . 2 list will be concat"
   ]
  },
  {
   "cell_type": "code",
   "execution_count": 19,
   "id": "e0c569e0-7be2-493c-8349-065241790394",
   "metadata": {},
   "outputs": [
    {
     "ename": "TypeError",
     "evalue": "can only concatenate list (not \"int\") to list",
     "output_type": "error",
     "traceback": [
      "\u001b[1;31m---------------------------------------------------------------------------\u001b[0m",
      "\u001b[1;31mTypeError\u001b[0m                                 Traceback (most recent call last)",
      "\u001b[1;32m~\\AppData\\Local\\Temp\\ipykernel_20640\\2677638017.py\u001b[0m in \u001b[0;36m<module>\u001b[1;34m\u001b[0m\n\u001b[1;32m----> 1\u001b[1;33m \u001b[0mL\u001b[0m\u001b[1;33m+\u001b[0m\u001b[1;36m2\u001b[0m\u001b[1;33m\u001b[0m\u001b[1;33m\u001b[0m\u001b[0m\n\u001b[0m",
      "\u001b[1;31mTypeError\u001b[0m: can only concatenate list (not \"int\") to list"
     ]
    }
   ],
   "source": [
    "L+2"
   ]
  },
  {
   "cell_type": "code",
   "execution_count": 26,
   "id": "201ba078-1aca-4d6c-adcb-1986469c8550",
   "metadata": {},
   "outputs": [
    {
     "data": {
      "text/plain": [
       "array([ 3,  4,  5,  6,  7,  8,  9, 10, 11, 12])"
      ]
     },
     "execution_count": 26,
     "metadata": {},
     "output_type": "execute_result"
    }
   ],
   "source": [
    "a+2"
   ]
  },
  {
   "cell_type": "code",
   "execution_count": null,
   "id": "a093f526-ea39-484a-8b1d-619f4b3badd3",
   "metadata": {},
   "outputs": [],
   "source": [
    "# element-wise operations with lists require a bunch of code"
   ]
  },
  {
   "cell_type": "code",
   "execution_count": 25,
   "id": "fce69056-8f18-4050-9a26-d614f89b8f0c",
   "metadata": {},
   "outputs": [
    {
     "data": {
      "text/plain": [
       "[1, 2, 3, 4, 5, 6, 7, 8, 9, 10]"
      ]
     },
     "execution_count": 25,
     "metadata": {},
     "output_type": "execute_result"
    }
   ],
   "source": [
    "L"
   ]
  },
  {
   "cell_type": "code",
   "execution_count": 23,
   "id": "63a06a7a-599f-4df4-aa3e-4ac2cf252556",
   "metadata": {},
   "outputs": [],
   "source": [
    "# 1) Using for loop\n",
    "list1=[]\n",
    "for i in L:\n",
    "    # print(i+2, end=\" ,\")\n",
    "    list1.append(i+2)"
   ]
  },
  {
   "cell_type": "code",
   "execution_count": 27,
   "id": "fafdfc3c-1b6e-4c0c-bc35-1bb3a3244580",
   "metadata": {},
   "outputs": [
    {
     "data": {
      "text/plain": [
       "[3, 4, 5, 6, 7, 8, 9, 10, 11, 12]"
      ]
     },
     "execution_count": 27,
     "metadata": {},
     "output_type": "execute_result"
    }
   ],
   "source": [
    "list1"
   ]
  },
  {
   "cell_type": "code",
   "execution_count": 28,
   "id": "6ff075e3-a7ad-4572-bdda-6d607990184e",
   "metadata": {},
   "outputs": [
    {
     "data": {
      "text/plain": [
       "[3, 4, 5, 6, 7, 8, 9, 10, 11, 12]"
      ]
     },
     "execution_count": 28,
     "metadata": {},
     "output_type": "execute_result"
    }
   ],
   "source": [
    "# 2) Using function\n",
    "list(map(lambda x:x+2,L))"
   ]
  },
  {
   "cell_type": "code",
   "execution_count": null,
   "id": "1d128f95-cf7b-475e-b654-2b64eac51ff5",
   "metadata": {},
   "outputs": [],
   "source": []
  },
  {
   "cell_type": "code",
   "execution_count": 29,
   "id": "9ae45e0c-7073-4aa5-87f0-874a2073056e",
   "metadata": {},
   "outputs": [
    {
     "ename": "TypeError",
     "evalue": "unsupported operand type(s) for -: 'list' and 'int'",
     "output_type": "error",
     "traceback": [
      "\u001b[1;31m---------------------------------------------------------------------------\u001b[0m",
      "\u001b[1;31mTypeError\u001b[0m                                 Traceback (most recent call last)",
      "\u001b[1;32m~\\AppData\\Local\\Temp\\ipykernel_20640\\3056738052.py\u001b[0m in \u001b[0;36m<module>\u001b[1;34m\u001b[0m\n\u001b[1;32m----> 1\u001b[1;33m \u001b[0mL\u001b[0m\u001b[1;33m-\u001b[0m\u001b[1;36m2\u001b[0m\u001b[1;33m\u001b[0m\u001b[1;33m\u001b[0m\u001b[0m\n\u001b[0m",
      "\u001b[1;31mTypeError\u001b[0m: unsupported operand type(s) for -: 'list' and 'int'"
     ]
    }
   ],
   "source": [
    "L-2"
   ]
  },
  {
   "cell_type": "code",
   "execution_count": 30,
   "id": "264c7bd6-4c7e-4354-9203-95fa2b02a99e",
   "metadata": {},
   "outputs": [
    {
     "data": {
      "text/plain": [
       "array([-1,  0,  1,  2,  3,  4,  5,  6,  7,  8])"
      ]
     },
     "execution_count": 30,
     "metadata": {},
     "output_type": "execute_result"
    }
   ],
   "source": [
    "a-2"
   ]
  },
  {
   "cell_type": "code",
   "execution_count": null,
   "id": "68c865aa-e488-4f06-9199-34ccc2c2a6fe",
   "metadata": {},
   "outputs": [],
   "source": []
  },
  {
   "cell_type": "code",
   "execution_count": 31,
   "id": "6832d582-a510-43d9-aa04-eee623421bf5",
   "metadata": {},
   "outputs": [
    {
     "data": {
      "text/plain": [
       "[1, 2, 3, 4, 5, 6, 7, 8, 9, 10, 1, 2, 3, 4, 5, 6, 7, 8, 9, 10]"
      ]
     },
     "execution_count": 31,
     "metadata": {},
     "output_type": "execute_result"
    }
   ],
   "source": [
    "L*2  # multiplyer should be int for rep"
   ]
  },
  {
   "cell_type": "code",
   "execution_count": 34,
   "id": "464f4d1d-f460-4f9a-baa0-8c9d6afa8d35",
   "metadata": {},
   "outputs": [
    {
     "ename": "TypeError",
     "evalue": "can't multiply sequence by non-int of type 'float'",
     "output_type": "error",
     "traceback": [
      "\u001b[1;31m---------------------------------------------------------------------------\u001b[0m",
      "\u001b[1;31mTypeError\u001b[0m                                 Traceback (most recent call last)",
      "\u001b[1;32m~\\AppData\\Local\\Temp\\ipykernel_20640\\1426095270.py\u001b[0m in \u001b[0;36m<module>\u001b[1;34m\u001b[0m\n\u001b[1;32m----> 1\u001b[1;33m \u001b[0mL\u001b[0m\u001b[1;33m*\u001b[0m\u001b[1;36m1.5\u001b[0m\u001b[1;33m\u001b[0m\u001b[1;33m\u001b[0m\u001b[0m\n\u001b[0m",
      "\u001b[1;31mTypeError\u001b[0m: can't multiply sequence by non-int of type 'float'"
     ]
    }
   ],
   "source": [
    "L*1.5"
   ]
  },
  {
   "cell_type": "code",
   "execution_count": 32,
   "id": "ca0f05ca-64b1-48ce-98f6-2cb6c1bce40d",
   "metadata": {},
   "outputs": [
    {
     "data": {
      "text/plain": [
       "array([ 2,  4,  6,  8, 10, 12, 14, 16, 18, 20])"
      ]
     },
     "execution_count": 32,
     "metadata": {},
     "output_type": "execute_result"
    }
   ],
   "source": [
    "a*2"
   ]
  },
  {
   "cell_type": "code",
   "execution_count": 35,
   "id": "f917edde-c1ff-47ac-9cf8-abe61a262511",
   "metadata": {},
   "outputs": [
    {
     "data": {
      "text/plain": [
       "array([ 1.5,  3. ,  4.5,  6. ,  7.5,  9. , 10.5, 12. , 13.5, 15. ])"
      ]
     },
     "execution_count": 35,
     "metadata": {},
     "output_type": "execute_result"
    }
   ],
   "source": [
    "a*1.5"
   ]
  },
  {
   "cell_type": "code",
   "execution_count": null,
   "id": "ba3f399e-d61d-4670-acb8-6823b9f83c5a",
   "metadata": {},
   "outputs": [],
   "source": []
  },
  {
   "cell_type": "code",
   "execution_count": null,
   "id": "1e26eb4c-f217-402a-878d-d3b863e1272b",
   "metadata": {},
   "outputs": [],
   "source": [
    "# List store elements of different data type (Mixed datatype)\n",
    "# Array store elements of same data type (homogeneous)"
   ]
  },
  {
   "cell_type": "code",
   "execution_count": 36,
   "id": "78c3b24c-8171-485e-8ba3-927f1d3d3354",
   "metadata": {},
   "outputs": [],
   "source": [
    "L2=[1,2,3,\"4\",5,6]\n",
    "# 0 1 2  3  4 5"
   ]
  },
  {
   "cell_type": "code",
   "execution_count": 37,
   "id": "1548dea8-76b1-4685-a111-1af5f8e32a21",
   "metadata": {},
   "outputs": [
    {
     "data": {
      "text/plain": [
       "[1, 2, 3, '4', 5, 6]"
      ]
     },
     "execution_count": 37,
     "metadata": {},
     "output_type": "execute_result"
    }
   ],
   "source": [
    "L2"
   ]
  },
  {
   "cell_type": "code",
   "execution_count": 40,
   "id": "0d7b5a66-7019-40e7-8280-030691ad2794",
   "metadata": {},
   "outputs": [
    {
     "data": {
      "text/plain": [
       "str"
      ]
     },
     "execution_count": 40,
     "metadata": {},
     "output_type": "execute_result"
    }
   ],
   "source": [
    "type(L2[3])"
   ]
  },
  {
   "cell_type": "code",
   "execution_count": 41,
   "id": "eab21cfa-135e-4bdf-b655-c631f773761b",
   "metadata": {},
   "outputs": [
    {
     "data": {
      "text/plain": [
       "int"
      ]
     },
     "execution_count": 41,
     "metadata": {},
     "output_type": "execute_result"
    }
   ],
   "source": [
    "type(L2[0])"
   ]
  },
  {
   "cell_type": "code",
   "execution_count": null,
   "id": "9ede1833-a4e0-418e-a1f0-c590cc6da612",
   "metadata": {},
   "outputs": [],
   "source": []
  },
  {
   "cell_type": "code",
   "execution_count": 43,
   "id": "b6ead8e3-88bf-4df6-a00a-58b733a69871",
   "metadata": {},
   "outputs": [],
   "source": [
    "a2=np.array([1,2,3,\"4\",5,6])"
   ]
  },
  {
   "cell_type": "code",
   "execution_count": 45,
   "id": "3c56d48c-3170-4017-b797-607c378e5b11",
   "metadata": {},
   "outputs": [
    {
     "name": "stdout",
     "output_type": "stream",
     "text": [
      "['1' '2' '3' '4' '5' '6']\n"
     ]
    }
   ],
   "source": [
    "print(a2)"
   ]
  },
  {
   "cell_type": "code",
   "execution_count": 46,
   "id": "aa6be6dc-fe45-4c2d-b899-4f22e9985fb1",
   "metadata": {},
   "outputs": [
    {
     "data": {
      "text/plain": [
       "numpy.str_"
      ]
     },
     "execution_count": 46,
     "metadata": {},
     "output_type": "execute_result"
    }
   ],
   "source": [
    "type(a2[3])"
   ]
  },
  {
   "cell_type": "code",
   "execution_count": 47,
   "id": "11989b4e-24e4-4a73-b0c9-2f535b7b9a33",
   "metadata": {},
   "outputs": [
    {
     "data": {
      "text/plain": [
       "numpy.str_"
      ]
     },
     "execution_count": 47,
     "metadata": {},
     "output_type": "execute_result"
    }
   ],
   "source": [
    "type(a2[0])"
   ]
  },
  {
   "cell_type": "code",
   "execution_count": null,
   "id": "c0dcc17d-d3d9-463f-b3c6-d619c5adb229",
   "metadata": {},
   "outputs": [],
   "source": []
  },
  {
   "cell_type": "code",
   "execution_count": 49,
   "id": "33e21ab8-49aa-405d-bf66-0c674ee76fa1",
   "metadata": {},
   "outputs": [
    {
     "data": {
      "text/plain": [
       "array(['1', '2', '3', '4', '5', '6'], dtype='<U1')"
      ]
     },
     "execution_count": 49,
     "metadata": {},
     "output_type": "execute_result"
    }
   ],
   "source": [
    "np.array([1,2,3,4,5,6],dtype=str)"
   ]
  },
  {
   "cell_type": "code",
   "execution_count": 50,
   "id": "d9835905-34cc-45d5-b8ee-44ed638cae23",
   "metadata": {},
   "outputs": [
    {
     "data": {
      "text/plain": [
       "array([1, 2, 3, 4, 5, 6])"
      ]
     },
     "execution_count": 50,
     "metadata": {},
     "output_type": "execute_result"
    }
   ],
   "source": [
    "np.array([1,2,3,4,5,6],dtype=int)"
   ]
  },
  {
   "cell_type": "code",
   "execution_count": null,
   "id": "1961f52d-4e59-4c35-b4df-385b089278bf",
   "metadata": {},
   "outputs": [],
   "source": []
  },
  {
   "cell_type": "code",
   "execution_count": null,
   "id": "4d00be49",
   "metadata": {},
   "outputs": [],
   "source": [
    "# Index / Mutability"
   ]
  },
  {
   "cell_type": "code",
   "execution_count": 51,
   "id": "36322d01",
   "metadata": {},
   "outputs": [
    {
     "name": "stdout",
     "output_type": "stream",
     "text": [
      "[ 1  2  3  4  5  6  7  8  9 10]\n"
     ]
    }
   ],
   "source": [
    "print(a)"
   ]
  },
  {
   "cell_type": "code",
   "execution_count": null,
   "id": "e9276fdb",
   "metadata": {},
   "outputs": [],
   "source": [
    "#       0   1   2  3    4   5   6   7   8   9    ==> Positive Index\n",
    "#     [ 1   2   3   4   5   6   7   8   9   10]\n",
    "#     -10  -9  -8  -7  -6  -5  -4  -3  -2   -1   ==> Negative Index"
   ]
  },
  {
   "cell_type": "code",
   "execution_count": null,
   "id": "4959876d",
   "metadata": {},
   "outputs": [],
   "source": [
    "#6"
   ]
  },
  {
   "cell_type": "code",
   "execution_count": 52,
   "id": "eb4a1f6d",
   "metadata": {},
   "outputs": [
    {
     "data": {
      "text/plain": [
       "6"
      ]
     },
     "execution_count": 52,
     "metadata": {},
     "output_type": "execute_result"
    }
   ],
   "source": [
    "a[5]"
   ]
  },
  {
   "cell_type": "code",
   "execution_count": 53,
   "id": "4462f111-d11c-4540-903d-c9d5b64d0f52",
   "metadata": {},
   "outputs": [
    {
     "data": {
      "text/plain": [
       "6"
      ]
     },
     "execution_count": 53,
     "metadata": {},
     "output_type": "execute_result"
    }
   ],
   "source": [
    "a[-5]"
   ]
  },
  {
   "cell_type": "code",
   "execution_count": null,
   "id": "abb5fce8",
   "metadata": {},
   "outputs": [],
   "source": [
    "#Reverse"
   ]
  },
  {
   "cell_type": "code",
   "execution_count": 55,
   "id": "edc42cf8-c5b9-40f1-bc58-965b18c5a2e2",
   "metadata": {},
   "outputs": [
    {
     "data": {
      "text/plain": [
       "array([10,  9,  8,  7,  6,  5,  4,  3,  2,  1])"
      ]
     },
     "execution_count": 55,
     "metadata": {},
     "output_type": "execute_result"
    }
   ],
   "source": [
    "a[::-1]"
   ]
  },
  {
   "cell_type": "code",
   "execution_count": null,
   "id": "75c6dacf-d863-42f0-9735-4d6e3b36921d",
   "metadata": {},
   "outputs": [],
   "source": []
  },
  {
   "cell_type": "code",
   "execution_count": null,
   "id": "d95be7be",
   "metadata": {},
   "outputs": [],
   "source": [
    "# variable  [start :       end :              step]\n",
    "#           0         len(variable)          1     ==> By default\n",
    "#   ================== Left to Right =====================>"
   ]
  },
  {
   "cell_type": "code",
   "execution_count": null,
   "id": "157fc7c2-4fb5-4642-9317-1580a7f72bf4",
   "metadata": {},
   "outputs": [],
   "source": [
    "# 6,7,8"
   ]
  },
  {
   "cell_type": "code",
   "execution_count": 56,
   "id": "69076eff-67e1-4482-8268-8375a7bf60ae",
   "metadata": {},
   "outputs": [
    {
     "data": {
      "text/plain": [
       "array([6, 7, 8])"
      ]
     },
     "execution_count": 56,
     "metadata": {},
     "output_type": "execute_result"
    }
   ],
   "source": [
    "a[5:8]"
   ]
  },
  {
   "cell_type": "code",
   "execution_count": 62,
   "id": "ac80b254-a5dd-433d-8985-88a59938c663",
   "metadata": {},
   "outputs": [
    {
     "data": {
      "text/plain": [
       "array([6, 7, 8])"
      ]
     },
     "execution_count": 62,
     "metadata": {},
     "output_type": "execute_result"
    }
   ],
   "source": [
    "a[-5:-2]"
   ]
  },
  {
   "cell_type": "code",
   "execution_count": null,
   "id": "eb34d8db",
   "metadata": {},
   "outputs": [],
   "source": [
    "# 8,7,6  \n"
   ]
  },
  {
   "cell_type": "code",
   "execution_count": 64,
   "id": "3ec668ce-c4f7-47fc-90b9-828f18eb9984",
   "metadata": {},
   "outputs": [
    {
     "data": {
      "text/plain": [
       "array([8, 7, 6])"
      ]
     },
     "execution_count": 64,
     "metadata": {},
     "output_type": "execute_result"
    }
   ],
   "source": [
    "a[7:4:-1]"
   ]
  },
  {
   "cell_type": "code",
   "execution_count": null,
   "id": "11d08d93-436b-4715-9c54-ea1c401ec9f5",
   "metadata": {},
   "outputs": [],
   "source": [
    "a[-5:-2]"
   ]
  },
  {
   "cell_type": "code",
   "execution_count": null,
   "id": "b3cdab25",
   "metadata": {},
   "outputs": [],
   "source": [
    "#       0   1   2  3    4   5   6   7   8   9    ==> Positive Index\n",
    "#     [ 1   2   3   4   5   6   7   8   9   10]\n",
    "#     -10  -9  -8  -7  -6  -5  -4  -3  -2   -1   ==> Negative Index"
   ]
  },
  {
   "cell_type": "code",
   "execution_count": null,
   "id": "d84e70b1-bffc-4f25-a358-e31bf128511d",
   "metadata": {},
   "outputs": [],
   "source": []
  }
 ],
 "metadata": {
  "kernelspec": {
   "display_name": "Python 3 (ipykernel)",
   "language": "python",
   "name": "python3"
  },
  "language_info": {
   "codemirror_mode": {
    "name": "ipython",
    "version": 3
   },
   "file_extension": ".py",
   "mimetype": "text/x-python",
   "name": "python",
   "nbconvert_exporter": "python",
   "pygments_lexer": "ipython3",
   "version": "3.9.7"
  }
 },
 "nbformat": 4,
 "nbformat_minor": 5
}
