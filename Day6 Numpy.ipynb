{
 "cells": [
  {
   "cell_type": "markdown",
   "id": "03b7eb46-f031-4af3-a7fa-4689310450ee",
   "metadata": {},
   "source": [
    "## Create array with initial values"
   ]
  },
  {
   "cell_type": "code",
   "execution_count": 50,
   "id": "45f28f79-55eb-4be5-ad3a-6e57317511bb",
   "metadata": {},
   "outputs": [],
   "source": [
    "# # Methods\n",
    "# np.array()\n",
    "# np.arange()\n",
    "# np.linspace()\n",
    "\n",
    "# # With initial values\n",
    "# np.eye():Creates an identity matrix\n",
    "# np.zeros:Creates an array filled with zeros\n",
    "# np.ones():Creates an array filled with ones\n",
    "# np.full():Creates an array filled with a specified value\n",
    "# np.empty() : Create with random values"
   ]
  },
  {
   "cell_type": "code",
   "execution_count": 51,
   "id": "bba2ec78-f35e-4e5a-94b8-f9bfd5357541",
   "metadata": {},
   "outputs": [],
   "source": [
    "import numpy as np"
   ]
  },
  {
   "cell_type": "code",
   "execution_count": 52,
   "id": "8db230c2-74e2-404d-8b48-0ec590ade5b4",
   "metadata": {},
   "outputs": [
    {
     "data": {
      "text/plain": [
       "array([[1., 0.],\n",
       "       [0., 1.]])"
      ]
     },
     "execution_count": 52,
     "metadata": {},
     "output_type": "execute_result"
    }
   ],
   "source": [
    "np.eye(2)"
   ]
  },
  {
   "cell_type": "code",
   "execution_count": 53,
   "id": "95ae78c6-64b4-4c52-a028-1c4786fd7ad5",
   "metadata": {},
   "outputs": [
    {
     "data": {
      "text/plain": [
       "array([[1., 0., 0., 0., 0.],\n",
       "       [0., 1., 0., 0., 0.],\n",
       "       [0., 0., 1., 0., 0.],\n",
       "       [0., 0., 0., 1., 0.],\n",
       "       [0., 0., 0., 0., 1.]])"
      ]
     },
     "execution_count": 53,
     "metadata": {},
     "output_type": "execute_result"
    }
   ],
   "source": [
    "np.eye(5)"
   ]
  },
  {
   "cell_type": "code",
   "execution_count": 54,
   "id": "052f18d6-2eb2-44e1-b0e0-fc53b72c672c",
   "metadata": {},
   "outputs": [
    {
     "data": {
      "text/plain": [
       "array([[1, 0, 0, 0, 0],\n",
       "       [0, 1, 0, 0, 0],\n",
       "       [0, 0, 1, 0, 0],\n",
       "       [0, 0, 0, 1, 0],\n",
       "       [0, 0, 0, 0, 1]])"
      ]
     },
     "execution_count": 54,
     "metadata": {},
     "output_type": "execute_result"
    }
   ],
   "source": [
    "np.eye(5,dtype=int)"
   ]
  },
  {
   "cell_type": "code",
   "execution_count": 55,
   "id": "1990af74-f663-4673-ac40-139fb4efa715",
   "metadata": {},
   "outputs": [
    {
     "data": {
      "text/plain": [
       "array([[0., 0., 0., 0.],\n",
       "       [0., 0., 0., 0.],\n",
       "       [0., 0., 0., 0.]])"
      ]
     },
     "execution_count": 55,
     "metadata": {},
     "output_type": "execute_result"
    }
   ],
   "source": [
    "np.zeros((3,4))"
   ]
  },
  {
   "cell_type": "code",
   "execution_count": 56,
   "id": "2520aeec-9a72-44df-be50-ecbdec46b834",
   "metadata": {},
   "outputs": [
    {
     "data": {
      "text/plain": [
       "array([[1., 1., 1., 1.],\n",
       "       [1., 1., 1., 1.],\n",
       "       [1., 1., 1., 1.]])"
      ]
     },
     "execution_count": 56,
     "metadata": {},
     "output_type": "execute_result"
    }
   ],
   "source": [
    "np.ones((3,4))"
   ]
  },
  {
   "cell_type": "code",
   "execution_count": 57,
   "id": "c54a380e-c944-4665-9ca6-a0df5fe082b7",
   "metadata": {},
   "outputs": [
    {
     "data": {
      "text/plain": [
       "array([[[1, 1, 1, 1],\n",
       "        [1, 1, 1, 1],\n",
       "        [1, 1, 1, 1]],\n",
       "\n",
       "       [[1, 1, 1, 1],\n",
       "        [1, 1, 1, 1],\n",
       "        [1, 1, 1, 1]]])"
      ]
     },
     "execution_count": 57,
     "metadata": {},
     "output_type": "execute_result"
    }
   ],
   "source": [
    "np.ones((2,3,4),dtype=int)"
   ]
  },
  {
   "cell_type": "code",
   "execution_count": 58,
   "id": "1f8f1344-6a64-4082-9279-e0fe628c87e2",
   "metadata": {},
   "outputs": [
    {
     "data": {
      "text/plain": [
       "array([[2, 2, 2],\n",
       "       [2, 2, 2],\n",
       "       [2, 2, 2],\n",
       "       [2, 2, 2]])"
      ]
     },
     "execution_count": 58,
     "metadata": {},
     "output_type": "execute_result"
    }
   ],
   "source": [
    "np.full((4,3),2)"
   ]
  },
  {
   "cell_type": "code",
   "execution_count": 59,
   "id": "32be4d76-3800-4f43-96d8-5b311dcee0bd",
   "metadata": {},
   "outputs": [
    {
     "data": {
      "text/plain": [
       "array([[3, 3, 3],\n",
       "       [3, 3, 3],\n",
       "       [3, 3, 3],\n",
       "       [3, 3, 3]])"
      ]
     },
     "execution_count": 59,
     "metadata": {},
     "output_type": "execute_result"
    }
   ],
   "source": [
    "np.full((4,3),3)"
   ]
  },
  {
   "cell_type": "code",
   "execution_count": 60,
   "id": "791117f4-4aa4-4ddc-ad0d-a29336bc776d",
   "metadata": {},
   "outputs": [
    {
     "data": {
      "text/plain": [
       "array([[0.00000000e+000, 0.00000000e+000, 0.00000000e+000,\n",
       "        0.00000000e+000],\n",
       "       [0.00000000e+000, 6.52166653e-321, 1.78019082e-306,\n",
       "        1.37959740e-306]])"
      ]
     },
     "execution_count": 60,
     "metadata": {},
     "output_type": "execute_result"
    }
   ],
   "source": [
    "np.empty((2,4))"
   ]
  },
  {
   "cell_type": "code",
   "execution_count": null,
   "id": "e06b398b-c6f3-4a2d-bda5-220dbfb66188",
   "metadata": {},
   "outputs": [],
   "source": []
  },
  {
   "cell_type": "markdown",
   "id": "5c7d4126",
   "metadata": {},
   "source": [
    "### Indexing and slicing NumPy arrays:"
   ]
  },
  {
   "cell_type": "code",
   "execution_count": 1,
   "id": "cae0098f",
   "metadata": {},
   "outputs": [],
   "source": [
    "import numpy as np"
   ]
  },
  {
   "cell_type": "code",
   "execution_count": 2,
   "id": "fe29bcbd",
   "metadata": {},
   "outputs": [],
   "source": [
    "arr=np.arange(1,11)"
   ]
  },
  {
   "cell_type": "code",
   "execution_count": 3,
   "id": "5e5dd26e",
   "metadata": {},
   "outputs": [
    {
     "data": {
      "text/plain": [
       "array([ 1,  2,  3,  4,  5,  6,  7,  8,  9, 10])"
      ]
     },
     "execution_count": 3,
     "metadata": {},
     "output_type": "execute_result"
    }
   ],
   "source": [
    "arr"
   ]
  },
  {
   "cell_type": "code",
   "execution_count": 4,
   "id": "d8b8f50b",
   "metadata": {},
   "outputs": [
    {
     "data": {
      "text/plain": [
       "1"
      ]
     },
     "execution_count": 4,
     "metadata": {},
     "output_type": "execute_result"
    }
   ],
   "source": [
    "arr[0]"
   ]
  },
  {
   "cell_type": "code",
   "execution_count": 5,
   "id": "3bc092da",
   "metadata": {},
   "outputs": [
    {
     "data": {
      "text/plain": [
       "array([2, 3, 4])"
      ]
     },
     "execution_count": 5,
     "metadata": {},
     "output_type": "execute_result"
    }
   ],
   "source": [
    "arr[1:4]"
   ]
  },
  {
   "cell_type": "code",
   "execution_count": 6,
   "id": "cb5763f4",
   "metadata": {},
   "outputs": [
    {
     "data": {
      "text/plain": [
       "array([2, 4])"
      ]
     },
     "execution_count": 6,
     "metadata": {},
     "output_type": "execute_result"
    }
   ],
   "source": [
    "arr[1:4:2]"
   ]
  },
  {
   "cell_type": "code",
   "execution_count": 7,
   "id": "b1c8a00a",
   "metadata": {},
   "outputs": [
    {
     "data": {
      "text/plain": [
       "array([ 1,  2,  3,  4,  5,  6,  7,  8,  9, 10])"
      ]
     },
     "execution_count": 7,
     "metadata": {},
     "output_type": "execute_result"
    }
   ],
   "source": [
    "arr[:]"
   ]
  },
  {
   "cell_type": "code",
   "execution_count": 8,
   "id": "34a018b1",
   "metadata": {},
   "outputs": [
    {
     "data": {
      "text/plain": [
       "array([10,  9,  8,  7,  6,  5,  4,  3,  2,  1])"
      ]
     },
     "execution_count": 8,
     "metadata": {},
     "output_type": "execute_result"
    }
   ],
   "source": [
    "arr[::-1]"
   ]
  },
  {
   "cell_type": "code",
   "execution_count": null,
   "id": "900b1543",
   "metadata": {},
   "outputs": [],
   "source": []
  },
  {
   "cell_type": "code",
   "execution_count": null,
   "id": "d8e6004f",
   "metadata": {},
   "outputs": [],
   "source": []
  },
  {
   "cell_type": "markdown",
   "id": "bb799ccc",
   "metadata": {},
   "source": [
    "## Indexing and Slicing multi-dimensional arrays"
   ]
  },
  {
   "cell_type": "code",
   "execution_count": null,
   "id": "1a99e6cf-6421-40aa-ba58-cac94eb48725",
   "metadata": {},
   "outputs": [],
   "source": [
    "# Multiple dimension array: 2D\n",
    "# M1) variable_name[row,column]\n",
    "# M2) variable_name[row][column]"
   ]
  },
  {
   "cell_type": "code",
   "execution_count": null,
   "id": "77c2e81f-2805-43cc-831b-776c82931ef2",
   "metadata": {},
   "outputs": [],
   "source": [
    "# Multiple dimension array:3D\n",
    "# M1) variable_name[Frame,row,column]\n",
    "# M2) variable_name[Frame][row][column]"
   ]
  },
  {
   "cell_type": "code",
   "execution_count": 9,
   "id": "13ab8cfa",
   "metadata": {},
   "outputs": [],
   "source": [
    "import numpy as np"
   ]
  },
  {
   "cell_type": "code",
   "execution_count": 10,
   "id": "fd29669f",
   "metadata": {},
   "outputs": [],
   "source": [
    "arr=np.arange(2,42,2)"
   ]
  },
  {
   "cell_type": "code",
   "execution_count": 11,
   "id": "da89089a",
   "metadata": {},
   "outputs": [
    {
     "data": {
      "text/plain": [
       "array([ 2,  4,  6,  8, 10, 12, 14, 16, 18, 20, 22, 24, 26, 28, 30, 32, 34,\n",
       "       36, 38, 40])"
      ]
     },
     "execution_count": 11,
     "metadata": {},
     "output_type": "execute_result"
    }
   ],
   "source": [
    "arr"
   ]
  },
  {
   "cell_type": "code",
   "execution_count": 12,
   "id": "e08d1477",
   "metadata": {},
   "outputs": [
    {
     "data": {
      "text/plain": [
       "20"
      ]
     },
     "execution_count": 12,
     "metadata": {},
     "output_type": "execute_result"
    }
   ],
   "source": [
    "arr.size"
   ]
  },
  {
   "cell_type": "code",
   "execution_count": 13,
   "id": "ccc7682f",
   "metadata": {},
   "outputs": [],
   "source": [
    "b=arr.reshape(4,5)"
   ]
  },
  {
   "cell_type": "code",
   "execution_count": null,
   "id": "c52c30bc",
   "metadata": {},
   "outputs": [],
   "source": []
  },
  {
   "cell_type": "code",
   "execution_count": 14,
   "id": "b9badb79",
   "metadata": {},
   "outputs": [
    {
     "data": {
      "text/plain": [
       "array([[ 2,  4,  6,  8, 10],\n",
       "       [12, 14, 16, 18, 20],\n",
       "       [22, 24, 26, 28, 30],\n",
       "       [32, 34, 36, 38, 40]])"
      ]
     },
     "execution_count": 14,
     "metadata": {},
     "output_type": "execute_result"
    }
   ],
   "source": [
    "b"
   ]
  },
  {
   "cell_type": "code",
   "execution_count": 15,
   "id": "f43f9f1c",
   "metadata": {},
   "outputs": [
    {
     "name": "stdout",
     "output_type": "stream",
     "text": [
      "[[ 2  4  6  8 10]\n",
      " [12 14 16 18 20]\n",
      " [22 24 26 28 30]\n",
      " [32 34 36 38 40]]\n"
     ]
    }
   ],
   "source": [
    "print(b)"
   ]
  },
  {
   "cell_type": "code",
   "execution_count": null,
   "id": "f61471ab",
   "metadata": {},
   "outputs": [],
   "source": [
    "#             -5 -4  -3 -2 -1\n",
    "# Rows Columns 0  1  2  3  4  \n",
    "#    0      [[ 2  4  6  8 10]\n",
    "#    1       [12 14 16 18 20]\n",
    "#    2       [22 24 26 28 30]\n",
    "#    3       [32 34 36 38 40]]"
   ]
  },
  {
   "cell_type": "code",
   "execution_count": null,
   "id": "778180d3-0a59-4be4-b4ae-2cbd1a7b90d9",
   "metadata": {},
   "outputs": [],
   "source": [
    "# M1) variable_name[row,column]"
   ]
  },
  {
   "cell_type": "code",
   "execution_count": 32,
   "id": "a62a441b",
   "metadata": {},
   "outputs": [
    {
     "data": {
      "text/plain": [
       "array([10, 20, 30, 40])"
      ]
     },
     "execution_count": 32,
     "metadata": {},
     "output_type": "execute_result"
    }
   ],
   "source": [
    "b[: ,-1]"
   ]
  },
  {
   "cell_type": "code",
   "execution_count": 33,
   "id": "d52fb672",
   "metadata": {},
   "outputs": [
    {
     "data": {
      "text/plain": [
       "array([40, 30, 20, 10])"
      ]
     },
     "execution_count": 33,
     "metadata": {},
     "output_type": "execute_result"
    }
   ],
   "source": [
    "b[: : -1,-1]"
   ]
  },
  {
   "cell_type": "code",
   "execution_count": null,
   "id": "dbc0a844",
   "metadata": {},
   "outputs": [],
   "source": [
    "# Homework\n",
    "\n",
    "# # Retrive following value from array b\n",
    "# 1) 14\n",
    "# 2) 28\n",
    "# 3) 6\n",
    "# 4) 34\n",
    "\n",
    "# 5) 24,26,28\n",
    "\n",
    "# 6) 14,16\n",
    "#    24,26\n",
    "\n",
    "# 7)[22, 24, 26, 28, 30]\n",
    "#   [32, 34, 36, 38, 40]\n",
    "    \n",
    "# 8) 4\n",
    "#    14\n",
    "#     24\n",
    "#     34"
   ]
  },
  {
   "cell_type": "code",
   "execution_count": 39,
   "id": "35d3cfde",
   "metadata": {},
   "outputs": [
    {
     "data": {
      "text/plain": [
       "36"
      ]
     },
     "execution_count": 39,
     "metadata": {},
     "output_type": "execute_result"
    }
   ],
   "source": [
    "#36\n",
    "# M1)\n",
    "b[3,2]\n"
   ]
  },
  {
   "cell_type": "code",
   "execution_count": 40,
   "id": "ba97fa62",
   "metadata": {},
   "outputs": [
    {
     "data": {
      "text/plain": [
       "36"
      ]
     },
     "execution_count": 40,
     "metadata": {},
     "output_type": "execute_result"
    }
   ],
   "source": [
    "#36\n",
    "# M2)\n",
    "b[3][2]"
   ]
  },
  {
   "cell_type": "code",
   "execution_count": 41,
   "id": "55e2b9cc",
   "metadata": {},
   "outputs": [
    {
     "data": {
      "text/plain": [
       "array([6, 8])"
      ]
     },
     "execution_count": 41,
     "metadata": {},
     "output_type": "execute_result"
    }
   ],
   "source": [
    "# 6   8\n",
    "# 16  18\n",
    "b[0,2:4]"
   ]
  },
  {
   "cell_type": "code",
   "execution_count": 42,
   "id": "a8f88c08",
   "metadata": {},
   "outputs": [
    {
     "data": {
      "text/plain": [
       "array([], shape=(0, 5), dtype=int32)"
      ]
     },
     "execution_count": 42,
     "metadata": {},
     "output_type": "execute_result"
    }
   ],
   "source": [
    "# 6  8\n",
    "b[0:2,2:4]\n",
    "\n",
    "b[0:2][2:4]"
   ]
  },
  {
   "cell_type": "code",
   "execution_count": 43,
   "id": "901c9715",
   "metadata": {},
   "outputs": [
    {
     "data": {
      "text/plain": [
       "array([32, 34, 36, 38, 40])"
      ]
     },
     "execution_count": 43,
     "metadata": {},
     "output_type": "execute_result"
    }
   ],
   "source": [
    "b[-1]"
   ]
  },
  {
   "cell_type": "code",
   "execution_count": 44,
   "id": "8e50ab9e",
   "metadata": {},
   "outputs": [
    {
     "data": {
      "text/plain": [
       "array([10, 20, 30, 40])"
      ]
     },
     "execution_count": 44,
     "metadata": {},
     "output_type": "execute_result"
    }
   ],
   "source": [
    "b[:,-1]"
   ]
  },
  {
   "cell_type": "code",
   "execution_count": null,
   "id": "86688f63",
   "metadata": {},
   "outputs": [],
   "source": []
  },
  {
   "cell_type": "code",
   "execution_count": 45,
   "id": "9a9a968d",
   "metadata": {},
   "outputs": [
    {
     "data": {
      "text/plain": [
       "array([40, 30, 20, 10])"
      ]
     },
     "execution_count": 45,
     "metadata": {},
     "output_type": "execute_result"
    }
   ],
   "source": [
    "b[: : -1,-1]"
   ]
  },
  {
   "cell_type": "code",
   "execution_count": 46,
   "id": "130e4df2",
   "metadata": {},
   "outputs": [],
   "source": [
    "c=[10, 20, 30, 40]"
   ]
  },
  {
   "cell_type": "code",
   "execution_count": 47,
   "id": "fef86aec",
   "metadata": {},
   "outputs": [
    {
     "data": {
      "text/plain": [
       "[40, 30, 20, 10]"
      ]
     },
     "execution_count": 47,
     "metadata": {},
     "output_type": "execute_result"
    }
   ],
   "source": [
    "c[: : -1]"
   ]
  },
  {
   "cell_type": "code",
   "execution_count": 48,
   "id": "f6a588d8",
   "metadata": {},
   "outputs": [
    {
     "data": {
      "text/plain": [
       "[]"
      ]
     },
     "execution_count": 48,
     "metadata": {},
     "output_type": "execute_result"
    }
   ],
   "source": [
    "c[0:4 : -1]"
   ]
  },
  {
   "cell_type": "code",
   "execution_count": 49,
   "id": "f8cfe6db",
   "metadata": {},
   "outputs": [
    {
     "data": {
      "text/plain": [
       "[40, 30, 20, 10]"
      ]
     },
     "execution_count": 49,
     "metadata": {},
     "output_type": "execute_result"
    }
   ],
   "source": [
    "c[4: : -1]"
   ]
  },
  {
   "cell_type": "code",
   "execution_count": null,
   "id": "4a38c8ea",
   "metadata": {},
   "outputs": [],
   "source": []
  },
  {
   "cell_type": "code",
   "execution_count": 19,
   "id": "e24b0cad",
   "metadata": {},
   "outputs": [
    {
     "data": {
      "text/plain": [
       "array([[ 2,  4,  6,  8, 10],\n",
       "       [12, 14, 16, 18, 20],\n",
       "       [22, 24, 26, 28, 30],\n",
       "       [32, 34, 36, 38, 40]])"
      ]
     },
     "execution_count": 19,
     "metadata": {},
     "output_type": "execute_result"
    }
   ],
   "source": [
    "b"
   ]
  },
  {
   "cell_type": "code",
   "execution_count": 20,
   "id": "26973009",
   "metadata": {},
   "outputs": [
    {
     "data": {
      "text/plain": [
       "array([ 2,  4,  6,  8, 10])"
      ]
     },
     "execution_count": 20,
     "metadata": {},
     "output_type": "execute_result"
    }
   ],
   "source": [
    "b[0] #first row (index position 0)"
   ]
  },
  {
   "cell_type": "code",
   "execution_count": 21,
   "id": "2c19c857",
   "metadata": {},
   "outputs": [
    {
     "data": {
      "text/plain": [
       "array([12, 14, 16, 18, 20])"
      ]
     },
     "execution_count": 21,
     "metadata": {},
     "output_type": "execute_result"
    }
   ],
   "source": [
    "b[1] #second row (index position 1)"
   ]
  },
  {
   "cell_type": "code",
   "execution_count": 23,
   "id": "1e1c0d05",
   "metadata": {},
   "outputs": [
    {
     "data": {
      "text/plain": [
       "array([22, 24, 26, 28, 30])"
      ]
     },
     "execution_count": 23,
     "metadata": {},
     "output_type": "execute_result"
    }
   ],
   "source": [
    "b[2] #third row (index position 2)"
   ]
  },
  {
   "cell_type": "code",
   "execution_count": 22,
   "id": "0a88fa23",
   "metadata": {},
   "outputs": [
    {
     "data": {
      "text/plain": [
       "array([32, 34, 36, 38, 40])"
      ]
     },
     "execution_count": 22,
     "metadata": {},
     "output_type": "execute_result"
    }
   ],
   "source": [
    "b[-1] #last row (index position -1)"
   ]
  },
  {
   "cell_type": "code",
   "execution_count": 24,
   "id": "1eda445a",
   "metadata": {},
   "outputs": [
    {
     "data": {
      "text/plain": [
       "14"
      ]
     },
     "execution_count": 24,
     "metadata": {},
     "output_type": "execute_result"
    }
   ],
   "source": [
    "b[1][1] #second row, second column"
   ]
  },
  {
   "cell_type": "code",
   "execution_count": 25,
   "id": "60f95458",
   "metadata": {},
   "outputs": [
    {
     "data": {
      "text/plain": [
       "14"
      ]
     },
     "execution_count": 25,
     "metadata": {},
     "output_type": "execute_result"
    }
   ],
   "source": [
    "b[1,1] #more convenient in one square bracket"
   ]
  },
  {
   "cell_type": "code",
   "execution_count": 26,
   "id": "f7d45059",
   "metadata": {},
   "outputs": [
    {
     "data": {
      "text/plain": [
       "30"
      ]
     },
     "execution_count": 26,
     "metadata": {},
     "output_type": "execute_result"
    }
   ],
   "source": [
    "b[2,-1] #third row, last column"
   ]
  },
  {
   "cell_type": "code",
   "execution_count": 27,
   "id": "971da503",
   "metadata": {},
   "outputs": [
    {
     "data": {
      "text/plain": [
       "array([ 2, 12, 22, 32])"
      ]
     },
     "execution_count": 27,
     "metadata": {},
     "output_type": "execute_result"
    }
   ],
   "source": [
    "b[:,0] #all rows, first column"
   ]
  },
  {
   "cell_type": "code",
   "execution_count": 28,
   "id": "03fa599f-cc21-4f84-9b0b-84c7f166b23b",
   "metadata": {},
   "outputs": [
    {
     "data": {
      "text/plain": [
       "array([32, 22, 12,  2])"
      ]
     },
     "execution_count": 28,
     "metadata": {},
     "output_type": "execute_result"
    }
   ],
   "source": [
    "b[: :-1,0]"
   ]
  },
  {
   "cell_type": "code",
   "execution_count": 29,
   "id": "1d56d48a",
   "metadata": {},
   "outputs": [
    {
     "data": {
      "text/plain": [
       "array([ 4, 14, 24, 34])"
      ]
     },
     "execution_count": 29,
     "metadata": {},
     "output_type": "execute_result"
    }
   ],
   "source": [
    "b[:,1] #all rows, second column"
   ]
  },
  {
   "cell_type": "code",
   "execution_count": null,
   "id": "3164b231-b56e-4ec3-b92c-307a163f1e74",
   "metadata": {},
   "outputs": [],
   "source": [
    "#             -5 -4  -3 -2 -1\n",
    "# Rows Columns 0  1  2  3  4  \n",
    "#    0      [[ 2  4  6  8 10]\n",
    "#    1       [12 14 16 18 20]\n",
    "#    2       [22 24 26 28 30]\n",
    "#    3       [32 34 36 38 40]]"
   ]
  },
  {
   "cell_type": "code",
   "execution_count": 30,
   "id": "955b43c0",
   "metadata": {},
   "outputs": [
    {
     "data": {
      "text/plain": [
       "array([10, 20, 30, 40])"
      ]
     },
     "execution_count": 30,
     "metadata": {},
     "output_type": "execute_result"
    }
   ],
   "source": [
    "b[:,-1] #all rows, last column"
   ]
  },
  {
   "cell_type": "code",
   "execution_count": 31,
   "id": "0d8dd1fd",
   "metadata": {},
   "outputs": [
    {
     "data": {
      "text/plain": [
       "array([[ 4,  6],\n",
       "       [14, 16]])"
      ]
     },
     "execution_count": 31,
     "metadata": {},
     "output_type": "execute_result"
    }
   ],
   "source": [
    "b[:2,1:3] #first two rows, column two and three"
   ]
  },
  {
   "cell_type": "code",
   "execution_count": null,
   "id": "2ac11937-ebc0-461e-8f69-6729348b87c1",
   "metadata": {},
   "outputs": [],
   "source": []
  }
 ],
 "metadata": {
  "kernelspec": {
   "display_name": "Python 3 (ipykernel)",
   "language": "python",
   "name": "python3"
  },
  "language_info": {
   "codemirror_mode": {
    "name": "ipython",
    "version": 3
   },
   "file_extension": ".py",
   "mimetype": "text/x-python",
   "name": "python",
   "nbconvert_exporter": "python",
   "pygments_lexer": "ipython3",
   "version": "3.9.7"
  }
 },
 "nbformat": 4,
 "nbformat_minor": 5
}
