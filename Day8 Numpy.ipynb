{
 "cells": [
  {
   "cell_type": "markdown",
   "id": "eef7f6d6",
   "metadata": {
    "collapsed": true,
    "jupyter": {
     "outputs_hidden": true
    }
   },
   "source": [
    "### Mathematical functions"
   ]
  },
  {
   "cell_type": "code",
   "execution_count": 1,
   "id": "48680fe0-df82-48bc-92c3-d47b6cd78cf8",
   "metadata": {},
   "outputs": [],
   "source": [
    "import numpy as np"
   ]
  },
  {
   "cell_type": "code",
   "execution_count": 2,
   "id": "b9b58082",
   "metadata": {},
   "outputs": [],
   "source": [
    "b=np.arange(2,41,2).reshape((5,4),order=\"F\")"
   ]
  },
  {
   "cell_type": "code",
   "execution_count": 3,
   "id": "d1cc963a",
   "metadata": {},
   "outputs": [
    {
     "name": "stdout",
     "output_type": "stream",
     "text": [
      "[[ 2 12 22 32]\n",
      " [ 4 14 24 34]\n",
      " [ 6 16 26 36]\n",
      " [ 8 18 28 38]\n",
      " [10 20 30 40]]\n"
     ]
    }
   ],
   "source": [
    "print(b)"
   ]
  },
  {
   "cell_type": "code",
   "execution_count": 4,
   "id": "1af0a522",
   "metadata": {},
   "outputs": [
    {
     "data": {
      "text/plain": [
       "420"
      ]
     },
     "execution_count": 4,
     "metadata": {},
     "output_type": "execute_result"
    }
   ],
   "source": [
    "b.sum() #sum over all elements in matrix"
   ]
  },
  {
   "cell_type": "code",
   "execution_count": 5,
   "id": "ad1cf674",
   "metadata": {},
   "outputs": [
    {
     "data": {
      "text/plain": [
       "array([ 30,  80, 130, 180])"
      ]
     },
     "execution_count": 5,
     "metadata": {},
     "output_type": "execute_result"
    }
   ],
   "source": [
    "b.sum(axis = 0) #sum of each column"
   ]
  },
  {
   "cell_type": "code",
   "execution_count": 6,
   "id": "771c4cad",
   "metadata": {},
   "outputs": [
    {
     "data": {
      "text/plain": [
       "130"
      ]
     },
     "execution_count": 6,
     "metadata": {},
     "output_type": "execute_result"
    }
   ],
   "source": [
    "22+24+26+28+30"
   ]
  },
  {
   "cell_type": "code",
   "execution_count": 7,
   "id": "8277498d",
   "metadata": {},
   "outputs": [
    {
     "data": {
      "text/plain": [
       "array([ 68,  76,  84,  92, 100])"
      ]
     },
     "execution_count": 7,
     "metadata": {},
     "output_type": "execute_result"
    }
   ],
   "source": [
    "b.sum(axis = 1) #sum of each row"
   ]
  },
  {
   "cell_type": "code",
   "execution_count": 8,
   "id": "1d9f6b01",
   "metadata": {},
   "outputs": [
    {
     "data": {
      "text/plain": [
       "76"
      ]
     },
     "execution_count": 8,
     "metadata": {},
     "output_type": "execute_result"
    }
   ],
   "source": [
    " 4 +14+ 24+ 34"
   ]
  },
  {
   "cell_type": "code",
   "execution_count": null,
   "id": "208ad733-8baa-4777-8090-df2d32b595a0",
   "metadata": {},
   "outputs": [],
   "source": [
    "b"
   ]
  },
  {
   "cell_type": "code",
   "execution_count": 9,
   "id": "253ca7d0-3011-4696-b5cd-6dcd0d50e00d",
   "metadata": {},
   "outputs": [
    {
     "data": {
      "text/plain": [
       "420"
      ]
     },
     "execution_count": 9,
     "metadata": {},
     "output_type": "execute_result"
    }
   ],
   "source": [
    "b.sum()"
   ]
  },
  {
   "cell_type": "code",
   "execution_count": 11,
   "id": "3cb86223-e48b-4a4d-9454-17126f4e4069",
   "metadata": {},
   "outputs": [
    {
     "data": {
      "text/plain": [
       "array([[ 2, 12, 22, 32],\n",
       "       [ 4, 14, 24, 34],\n",
       "       [ 6, 16, 26, 36],\n",
       "       [ 8, 18, 28, 38],\n",
       "       [10, 20, 30, 40]])"
      ]
     },
     "execution_count": 11,
     "metadata": {},
     "output_type": "execute_result"
    }
   ],
   "source": [
    "b"
   ]
  },
  {
   "cell_type": "code",
   "execution_count": 10,
   "id": "e59acd81",
   "metadata": {},
   "outputs": [
    {
     "data": {
      "text/plain": [
       "array([  2,  14,  36,  68,  72,  86, 110, 144, 150, 166, 192, 228, 236,\n",
       "       254, 282, 320, 330, 350, 380, 420])"
      ]
     },
     "execution_count": 10,
     "metadata": {},
     "output_type": "execute_result"
    }
   ],
   "source": [
    "b.cumsum() #cumulative sum of all elements"
   ]
  },
  {
   "cell_type": "code",
   "execution_count": 12,
   "id": "6a4304fb",
   "metadata": {},
   "outputs": [
    {
     "data": {
      "text/plain": [
       "array([[  2,  12,  22,  32],\n",
       "       [  6,  26,  46,  66],\n",
       "       [ 12,  42,  72, 102],\n",
       "       [ 20,  60, 100, 140],\n",
       "       [ 30,  80, 130, 180]])"
      ]
     },
     "execution_count": 12,
     "metadata": {},
     "output_type": "execute_result"
    }
   ],
   "source": [
    "b.cumsum(axis = 0) #cumulative sum for each column"
   ]
  },
  {
   "cell_type": "code",
   "execution_count": 13,
   "id": "f898823c",
   "metadata": {},
   "outputs": [
    {
     "data": {
      "text/plain": [
       "array([[  2,  14,  36,  68],\n",
       "       [  4,  18,  42,  76],\n",
       "       [  6,  22,  48,  84],\n",
       "       [  8,  26,  54,  92],\n",
       "       [ 10,  30,  60, 100]])"
      ]
     },
     "execution_count": 13,
     "metadata": {},
     "output_type": "execute_result"
    }
   ],
   "source": [
    "b.cumsum(axis = 1) #cumulative sum for each row"
   ]
  },
  {
   "cell_type": "code",
   "execution_count": 14,
   "id": "9bf90fe9",
   "metadata": {},
   "outputs": [
    {
     "data": {
      "text/plain": [
       "array([[ 2, 12, 22, 32],\n",
       "       [ 4, 14, 24, 34],\n",
       "       [ 6, 16, 26, 36],\n",
       "       [ 8, 18, 28, 38],\n",
       "       [10, 20, 30, 40]])"
      ]
     },
     "execution_count": 14,
     "metadata": {},
     "output_type": "execute_result"
    }
   ],
   "source": [
    "b"
   ]
  },
  {
   "cell_type": "code",
   "execution_count": 15,
   "id": "e9deb016",
   "metadata": {},
   "outputs": [
    {
     "data": {
      "text/plain": [
       "40"
      ]
     },
     "execution_count": 15,
     "metadata": {},
     "output_type": "execute_result"
    }
   ],
   "source": [
    "b.max() #maximum "
   ]
  },
  {
   "cell_type": "code",
   "execution_count": 16,
   "id": "965b8fbe",
   "metadata": {},
   "outputs": [
    {
     "data": {
      "text/plain": [
       "array([10, 20, 30, 40])"
      ]
     },
     "execution_count": 16,
     "metadata": {},
     "output_type": "execute_result"
    }
   ],
   "source": [
    "b.max(axis=0) #maximum "
   ]
  },
  {
   "cell_type": "code",
   "execution_count": 17,
   "id": "2859c862",
   "metadata": {},
   "outputs": [
    {
     "data": {
      "text/plain": [
       "array([32, 34, 36, 38, 40])"
      ]
     },
     "execution_count": 17,
     "metadata": {},
     "output_type": "execute_result"
    }
   ],
   "source": [
    "b.max(axis=1) #maximum "
   ]
  },
  {
   "cell_type": "code",
   "execution_count": null,
   "id": "0783ed0e",
   "metadata": {},
   "outputs": [],
   "source": []
  },
  {
   "cell_type": "code",
   "execution_count": 18,
   "id": "a869c384",
   "metadata": {},
   "outputs": [
    {
     "data": {
      "text/plain": [
       "2"
      ]
     },
     "execution_count": 18,
     "metadata": {},
     "output_type": "execute_result"
    }
   ],
   "source": [
    "b.min() #minimum "
   ]
  },
  {
   "cell_type": "code",
   "execution_count": 19,
   "id": "49bccc39",
   "metadata": {},
   "outputs": [
    {
     "data": {
      "text/plain": [
       "21.0"
      ]
     },
     "execution_count": 19,
     "metadata": {},
     "output_type": "execute_result"
    }
   ],
   "source": [
    "b.mean() #mean "
   ]
  },
  {
   "cell_type": "code",
   "execution_count": 20,
   "id": "d0c1e9b7-9a08-4f17-b59c-01aec9a69f06",
   "metadata": {},
   "outputs": [],
   "source": [
    "L=list(range(2,41,2))"
   ]
  },
  {
   "cell_type": "code",
   "execution_count": 21,
   "id": "ea228a2a-4486-49bd-acad-b9eec9353fbe",
   "metadata": {},
   "outputs": [
    {
     "data": {
      "text/plain": [
       "[2, 4, 6, 8, 10, 12, 14, 16, 18, 20, 22, 24, 26, 28, 30, 32, 34, 36, 38, 40]"
      ]
     },
     "execution_count": 21,
     "metadata": {},
     "output_type": "execute_result"
    }
   ],
   "source": [
    "L"
   ]
  },
  {
   "cell_type": "code",
   "execution_count": 22,
   "id": "6c219aa3-cc3d-47d4-90a7-eed303c5928c",
   "metadata": {},
   "outputs": [],
   "source": [
    "# mean = summation of all elements / total number of elements"
   ]
  },
  {
   "cell_type": "code",
   "execution_count": 24,
   "id": "d636bdac-7507-452f-bffb-215401a684ea",
   "metadata": {},
   "outputs": [
    {
     "ename": "AttributeError",
     "evalue": "'list' object has no attribute 'mean'",
     "output_type": "error",
     "traceback": [
      "\u001b[1;31m---------------------------------------------------------------------------\u001b[0m",
      "\u001b[1;31mAttributeError\u001b[0m                            Traceback (most recent call last)",
      "\u001b[1;32m~\\AppData\\Local\\Temp\\ipykernel_21676\\3494015269.py\u001b[0m in \u001b[0;36m<module>\u001b[1;34m\u001b[0m\n\u001b[1;32m----> 1\u001b[1;33m \u001b[0mL\u001b[0m\u001b[1;33m.\u001b[0m\u001b[0mmean\u001b[0m\u001b[1;33m(\u001b[0m\u001b[1;33m)\u001b[0m\u001b[1;33m\u001b[0m\u001b[1;33m\u001b[0m\u001b[0m\n\u001b[0m",
      "\u001b[1;31mAttributeError\u001b[0m: 'list' object has no attribute 'mean'"
     ]
    }
   ],
   "source": [
    "L.mean()"
   ]
  },
  {
   "cell_type": "code",
   "execution_count": 28,
   "id": "2f179ee4-bdbf-46d3-ac6e-9ef2d61aedb9",
   "metadata": {},
   "outputs": [
    {
     "data": {
      "text/plain": [
       "21.0"
      ]
     },
     "execution_count": 28,
     "metadata": {},
     "output_type": "execute_result"
    }
   ],
   "source": [
    "a=sum(L)/len(L)\n",
    "a"
   ]
  },
  {
   "cell_type": "code",
   "execution_count": 31,
   "id": "5ba9b57c-7743-4588-b6c5-1a2bf736a3f4",
   "metadata": {},
   "outputs": [],
   "source": [
    "sum=0\n",
    "for num in L:\n",
    "    sum=sum+num\n",
    "    a=sum/len(L)"
   ]
  },
  {
   "cell_type": "code",
   "execution_count": 32,
   "id": "1a395517-dded-430e-9575-ed4ea626d5f6",
   "metadata": {},
   "outputs": [
    {
     "data": {
      "text/plain": [
       "21.0"
      ]
     },
     "execution_count": 32,
     "metadata": {},
     "output_type": "execute_result"
    }
   ],
   "source": [
    "a"
   ]
  },
  {
   "cell_type": "code",
   "execution_count": null,
   "id": "6513bb3f-a472-4491-9098-b76cf24ecf63",
   "metadata": {},
   "outputs": [],
   "source": []
  },
  {
   "cell_type": "code",
   "execution_count": 25,
   "id": "16e032e0-6db2-4651-be0c-2092b1683c98",
   "metadata": {},
   "outputs": [
    {
     "data": {
      "text/plain": [
       "21.0"
      ]
     },
     "execution_count": 25,
     "metadata": {},
     "output_type": "execute_result"
    }
   ],
   "source": [
    "np.mean(L)"
   ]
  },
  {
   "cell_type": "code",
   "execution_count": 33,
   "id": "1962ba7e-8b0d-488e-bb15-892350ddbb34",
   "metadata": {},
   "outputs": [],
   "source": [
    "# b.mean() ==> Works if b is array\n",
    "# If b is not array then use ==> np.mean(b)"
   ]
  },
  {
   "cell_type": "code",
   "execution_count": null,
   "id": "991864db-82c0-474c-a85e-9f47e7de1604",
   "metadata": {},
   "outputs": [],
   "source": []
  },
  {
   "cell_type": "code",
   "execution_count": 34,
   "id": "cb75fd26",
   "metadata": {},
   "outputs": [
    {
     "data": {
      "text/plain": [
       "21.0"
      ]
     },
     "execution_count": 34,
     "metadata": {},
     "output_type": "execute_result"
    }
   ],
   "source": [
    "np.median(b) #median"
   ]
  },
  {
   "cell_type": "code",
   "execution_count": 36,
   "id": "cdd5da47",
   "metadata": {},
   "outputs": [
    {
     "data": {
      "text/plain": [
       "11.532562594670797"
      ]
     },
     "execution_count": 36,
     "metadata": {},
     "output_type": "execute_result"
    }
   ],
   "source": [
    "b.std() #standard deviation  ==> np.std(b)"
   ]
  },
  {
   "cell_type": "code",
   "execution_count": 38,
   "id": "c9a104f2-7e7f-457b-b7ec-ec280150f331",
   "metadata": {},
   "outputs": [
    {
     "data": {
      "text/plain": [
       "133.00000000000003"
      ]
     },
     "execution_count": 38,
     "metadata": {},
     "output_type": "execute_result"
    }
   ],
   "source": [
    "11.532562594670797*11.532562594670797"
   ]
  },
  {
   "cell_type": "code",
   "execution_count": 37,
   "id": "638c2605",
   "metadata": {},
   "outputs": [
    {
     "data": {
      "text/plain": [
       "133.0"
      ]
     },
     "execution_count": 37,
     "metadata": {},
     "output_type": "execute_result"
    }
   ],
   "source": [
    "b.var() #variance"
   ]
  },
  {
   "cell_type": "code",
   "execution_count": null,
   "id": "3da34ee2-8a3c-4a1e-be97-2ce8aca9edd3",
   "metadata": {},
   "outputs": [],
   "source": [
    "# square of std is equal to variance"
   ]
  },
  {
   "cell_type": "code",
   "execution_count": 39,
   "id": "eb2f8250",
   "metadata": {},
   "outputs": [
    {
     "data": {
      "text/plain": [
       "5.800000000000001"
      ]
     },
     "execution_count": 39,
     "metadata": {},
     "output_type": "execute_result"
    }
   ],
   "source": [
    "np.percentile(b, 10) #10th percentile"
   ]
  },
  {
   "cell_type": "code",
   "execution_count": 40,
   "id": "cfd8ad85-773b-45b1-baa3-c4110bf46a85",
   "metadata": {},
   "outputs": [
    {
     "data": {
      "text/plain": [
       "21.0"
      ]
     },
     "execution_count": 40,
     "metadata": {},
     "output_type": "execute_result"
    }
   ],
   "source": [
    "np.percentile(b, 50) #median"
   ]
  },
  {
   "cell_type": "code",
   "execution_count": 41,
   "id": "7413fc65-e67e-43da-8b3b-1d6aea8db573",
   "metadata": {},
   "outputs": [
    {
     "data": {
      "text/plain": [
       "array([[ 2, 12, 22, 32],\n",
       "       [ 4, 14, 24, 34],\n",
       "       [ 6, 16, 26, 36],\n",
       "       [ 8, 18, 28, 38],\n",
       "       [10, 20, 30, 40]])"
      ]
     },
     "execution_count": 41,
     "metadata": {},
     "output_type": "execute_result"
    }
   ],
   "source": [
    "b"
   ]
  },
  {
   "cell_type": "code",
   "execution_count": 42,
   "id": "94a96bc1",
   "metadata": {},
   "outputs": [
    {
     "data": {
      "text/plain": [
       "array([[1.41421356, 3.46410162, 4.69041576, 5.65685425],\n",
       "       [2.        , 3.74165739, 4.89897949, 5.83095189],\n",
       "       [2.44948974, 4.        , 5.09901951, 6.        ],\n",
       "       [2.82842712, 4.24264069, 5.29150262, 6.164414  ],\n",
       "       [3.16227766, 4.47213595, 5.47722558, 6.32455532]])"
      ]
     },
     "execution_count": 42,
     "metadata": {},
     "output_type": "execute_result"
    }
   ],
   "source": [
    "np.sqrt(b) #square root of all elements"
   ]
  },
  {
   "cell_type": "code",
   "execution_count": 43,
   "id": "dc40d952",
   "metadata": {},
   "outputs": [
    {
     "data": {
      "text/plain": [
       "array([[7.38905610e+00, 1.62754791e+05, 3.58491285e+09, 7.89629602e+13],\n",
       "       [5.45981500e+01, 1.20260428e+06, 2.64891221e+10, 5.83461743e+14],\n",
       "       [4.03428793e+02, 8.88611052e+06, 1.95729609e+11, 4.31123155e+15],\n",
       "       [2.98095799e+03, 6.56599691e+07, 1.44625706e+12, 3.18559318e+16],\n",
       "       [2.20264658e+04, 4.85165195e+08, 1.06864746e+13, 2.35385267e+17]])"
      ]
     },
     "execution_count": 43,
     "metadata": {},
     "output_type": "execute_result"
    }
   ],
   "source": [
    "np.exp(b) #exponentiation with e"
   ]
  },
  {
   "cell_type": "code",
   "execution_count": 44,
   "id": "8daca1a1",
   "metadata": {},
   "outputs": [
    {
     "data": {
      "text/plain": [
       "array([[0.69314718, 2.48490665, 3.09104245, 3.4657359 ],\n",
       "       [1.38629436, 2.63905733, 3.17805383, 3.52636052],\n",
       "       [1.79175947, 2.77258872, 3.25809654, 3.58351894],\n",
       "       [2.07944154, 2.89037176, 3.33220451, 3.63758616],\n",
       "       [2.30258509, 2.99573227, 3.40119738, 3.68887945]])"
      ]
     },
     "execution_count": 44,
     "metadata": {},
     "output_type": "execute_result"
    }
   ],
   "source": [
    "np.log(b) #natural logarithm"
   ]
  },
  {
   "cell_type": "code",
   "execution_count": 45,
   "id": "c2c46dbc",
   "metadata": {},
   "outputs": [
    {
     "data": {
      "text/plain": [
       "array([-1.7, -1.5, -0.2,  0.2,  1.5,  1.7,  2. ])"
      ]
     },
     "execution_count": 45,
     "metadata": {},
     "output_type": "execute_result"
    }
   ],
   "source": [
    "c = np.array([-1.7, -1.5, -0.2, 0.2, 1.5, 1.7, 2.0])\n",
    "c"
   ]
  },
  {
   "cell_type": "code",
   "execution_count": 46,
   "id": "f509a771",
   "metadata": {},
   "outputs": [
    {
     "data": {
      "text/plain": [
       "array([1.7, 1.5, 0.2, 0.2, 1.5, 1.7, 2. ])"
      ]
     },
     "execution_count": 46,
     "metadata": {},
     "output_type": "execute_result"
    }
   ],
   "source": [
    "np.abs(c) #absolute values of all elements"
   ]
  },
  {
   "cell_type": "code",
   "execution_count": null,
   "id": "9fb0cecb",
   "metadata": {},
   "outputs": [],
   "source": [
    " # |-2| = 2 #absolute"
   ]
  },
  {
   "cell_type": "code",
   "execution_count": 47,
   "id": "be0f8f38",
   "metadata": {},
   "outputs": [],
   "source": [
    "d=np.array([1.7, 3.1, 0.2, 4.2, 1.5, 2.7, 5.2 ])"
   ]
  },
  {
   "cell_type": "code",
   "execution_count": 48,
   "id": "d4c35736-1a32-41b1-885e-6645b88d6025",
   "metadata": {},
   "outputs": [
    {
     "data": {
      "text/plain": [
       "array([1.7, 3.1, 0.2, 4.2, 1.5, 2.7, 5.2])"
      ]
     },
     "execution_count": 48,
     "metadata": {},
     "output_type": "execute_result"
    }
   ],
   "source": [
    "d"
   ]
  },
  {
   "cell_type": "code",
   "execution_count": 49,
   "id": "ed4d1d1d",
   "metadata": {},
   "outputs": [
    {
     "data": {
      "text/plain": [
       "array([2., 4., 1., 5., 2., 3., 6.])"
      ]
     },
     "execution_count": 49,
     "metadata": {},
     "output_type": "execute_result"
    }
   ],
   "source": [
    "np.ceil(d) #element-wise rounding up"
   ]
  },
  {
   "cell_type": "code",
   "execution_count": 50,
   "id": "e64049a4",
   "metadata": {},
   "outputs": [
    {
     "data": {
      "text/plain": [
       "array([1., 3., 0., 4., 1., 2., 5.])"
      ]
     },
     "execution_count": 50,
     "metadata": {},
     "output_type": "execute_result"
    }
   ],
   "source": [
    "np.floor(d) #element-wise rounding down"
   ]
  },
  {
   "cell_type": "code",
   "execution_count": null,
   "id": "8d881ea4-4ae7-4d6b-8a49-b5ecb53396ee",
   "metadata": {},
   "outputs": [],
   "source": []
  },
  {
   "cell_type": "code",
   "execution_count": null,
   "id": "2f3c6031-a254-4748-b57b-7c31f474a5b0",
   "metadata": {},
   "outputs": [],
   "source": []
  }
 ],
 "metadata": {
  "kernelspec": {
   "display_name": "Python 3 (ipykernel)",
   "language": "python",
   "name": "python3"
  },
  "language_info": {
   "codemirror_mode": {
    "name": "ipython",
    "version": 3
   },
   "file_extension": ".py",
   "mimetype": "text/x-python",
   "name": "python",
   "nbconvert_exporter": "python",
   "pygments_lexer": "ipython3",
   "version": "3.9.7"
  }
 },
 "nbformat": 4,
 "nbformat_minor": 5
}
