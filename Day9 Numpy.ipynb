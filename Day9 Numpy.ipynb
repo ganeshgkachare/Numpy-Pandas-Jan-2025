{
 "cells": [
  {
   "cell_type": "code",
   "execution_count": 1,
   "id": "527b4f92-1be1-4c8e-9d3b-5eb739b46cda",
   "metadata": {},
   "outputs": [],
   "source": [
    "import numpy as np"
   ]
  },
  {
   "cell_type": "code",
   "execution_count": null,
   "id": "b12e5989-66b3-4200-9329-8a6ccbf4379f",
   "metadata": {},
   "outputs": [],
   "source": [
    "45.465376"
   ]
  },
  {
   "cell_type": "code",
   "execution_count": 2,
   "id": "066c04eb-cb8c-4626-9d3d-88e93e21ad34",
   "metadata": {},
   "outputs": [
    {
     "data": {
      "text/plain": [
       "45.5"
      ]
     },
     "execution_count": 2,
     "metadata": {},
     "output_type": "execute_result"
    }
   ],
   "source": [
    "round(45.465376,1)"
   ]
  },
  {
   "cell_type": "code",
   "execution_count": 3,
   "id": "890a4e42-c293-4a74-894b-14494553e169",
   "metadata": {},
   "outputs": [
    {
     "data": {
      "text/plain": [
       "45.47"
      ]
     },
     "execution_count": 3,
     "metadata": {},
     "output_type": "execute_result"
    }
   ],
   "source": [
    "round(45.465376,2)"
   ]
  },
  {
   "cell_type": "code",
   "execution_count": 4,
   "id": "28a6eea8-e1f2-400e-bbfa-727c6d893da0",
   "metadata": {},
   "outputs": [
    {
     "data": {
      "text/plain": [
       "45.465"
      ]
     },
     "execution_count": 4,
     "metadata": {},
     "output_type": "execute_result"
    }
   ],
   "source": [
    "round(45.465376,3)"
   ]
  },
  {
   "cell_type": "code",
   "execution_count": 5,
   "id": "c1d5f0fb-3eac-430f-ab1a-4e4ca53f4443",
   "metadata": {},
   "outputs": [],
   "source": [
    "a=np.array([-3.23, -0.76, 1.44, 2.65])"
   ]
  },
  {
   "cell_type": "code",
   "execution_count": 7,
   "id": "06c481bf-72e8-40c5-9c4d-bce1b7ac9140",
   "metadata": {},
   "outputs": [
    {
     "data": {
      "text/plain": [
       "array([3.23, 0.76, 1.44, 2.65])"
      ]
     },
     "execution_count": 7,
     "metadata": {},
     "output_type": "execute_result"
    }
   ],
   "source": [
    "np.abs(a)"
   ]
  },
  {
   "cell_type": "code",
   "execution_count": 8,
   "id": "fe1149f7-03ad-49be-9bc1-1ca33451d412",
   "metadata": {},
   "outputs": [
    {
     "data": {
      "text/plain": [
       "array([-3.23, -0.76,  1.44,  2.65])"
      ]
     },
     "execution_count": 8,
     "metadata": {},
     "output_type": "execute_result"
    }
   ],
   "source": [
    "a"
   ]
  },
  {
   "cell_type": "code",
   "execution_count": null,
   "id": "b792c1f7-a33e-441c-b425-d02ce6f7ef92",
   "metadata": {},
   "outputs": [],
   "source": []
  },
  {
   "cell_type": "code",
   "execution_count": 9,
   "id": "52118204-4108-4bf0-bca1-1d6bc6ec53ab",
   "metadata": {},
   "outputs": [
    {
     "data": {
      "text/plain": [
       "array([-3.2, -0.8,  1.4,  2.6])"
      ]
     },
     "execution_count": 9,
     "metadata": {},
     "output_type": "execute_result"
    }
   ],
   "source": [
    "np.around(a, decimals = 1) #evenly round all elements to the given number of decimals."
   ]
  },
  {
   "cell_type": "code",
   "execution_count": 10,
   "id": "e863a6c5-cad9-48ac-a801-507d5de38b9d",
   "metadata": {},
   "outputs": [
    {
     "data": {
      "text/plain": [
       "array([-3., -1.,  1.,  3.])"
      ]
     },
     "execution_count": 10,
     "metadata": {},
     "output_type": "execute_result"
    }
   ],
   "source": [
    "np.around(a, decimals = 0) #evenly round all elements to the given number of decimals."
   ]
  },
  {
   "cell_type": "code",
   "execution_count": null,
   "id": "473b7aaa-8343-4547-9240-ce30c4a648dc",
   "metadata": {},
   "outputs": [],
   "source": []
  },
  {
   "cell_type": "markdown",
   "id": "0bbbaee7",
   "metadata": {},
   "source": [
    "### Matrix"
   ]
  },
  {
   "cell_type": "code",
   "execution_count": null,
   "id": "0656c422",
   "metadata": {},
   "outputs": [],
   "source": [
    "# Element-wise operations:\n",
    "# Addition: np.add()\n",
    "# Subtraction: np.subtract()\n",
    "# Division: np.divide()\n",
    "# Multiplication: np.multiply()"
   ]
  },
  {
   "cell_type": "code",
   "execution_count": 11,
   "id": "623b1ed8",
   "metadata": {},
   "outputs": [],
   "source": [
    "# Define two matrices to multiply\n",
    "matrix1 = np.array([[1, 2], [3, 4]])\n",
    "matrix2 = np.array([[5, 6], [7, 7]])"
   ]
  },
  {
   "cell_type": "code",
   "execution_count": 12,
   "id": "04493a4a",
   "metadata": {},
   "outputs": [
    {
     "name": "stdout",
     "output_type": "stream",
     "text": [
      "[[1 2]\n",
      " [3 4]]\n"
     ]
    }
   ],
   "source": [
    "print(matrix1)"
   ]
  },
  {
   "cell_type": "code",
   "execution_count": 13,
   "id": "91a9541a",
   "metadata": {},
   "outputs": [
    {
     "name": "stdout",
     "output_type": "stream",
     "text": [
      "[[5 6]\n",
      " [7 7]]\n"
     ]
    }
   ],
   "source": [
    "print(matrix2)"
   ]
  },
  {
   "cell_type": "code",
   "execution_count": null,
   "id": "456efbf9",
   "metadata": {},
   "outputs": [],
   "source": [
    "# Addition:"
   ]
  },
  {
   "cell_type": "code",
   "execution_count": 15,
   "id": "379e2fea",
   "metadata": {},
   "outputs": [
    {
     "data": {
      "text/plain": [
       "array([[ 6,  8],\n",
       "       [10, 11]])"
      ]
     },
     "execution_count": 15,
     "metadata": {},
     "output_type": "execute_result"
    }
   ],
   "source": [
    "matrix1 + matrix2"
   ]
  },
  {
   "cell_type": "code",
   "execution_count": 14,
   "id": "6e8f096e",
   "metadata": {},
   "outputs": [
    {
     "data": {
      "text/plain": [
       "array([[ 6,  8],\n",
       "       [10, 11]])"
      ]
     },
     "execution_count": 14,
     "metadata": {},
     "output_type": "execute_result"
    }
   ],
   "source": [
    "np.add(matrix1,matrix2)"
   ]
  },
  {
   "cell_type": "code",
   "execution_count": null,
   "id": "24047539",
   "metadata": {},
   "outputs": [],
   "source": []
  },
  {
   "cell_type": "code",
   "execution_count": null,
   "id": "21e07684",
   "metadata": {},
   "outputs": [],
   "source": [
    "# Subtraction:"
   ]
  },
  {
   "cell_type": "code",
   "execution_count": 16,
   "id": "17e96f46",
   "metadata": {},
   "outputs": [
    {
     "data": {
      "text/plain": [
       "array([[-4, -4],\n",
       "       [-4, -3]])"
      ]
     },
     "execution_count": 16,
     "metadata": {},
     "output_type": "execute_result"
    }
   ],
   "source": [
    "matrix1 - matrix2"
   ]
  },
  {
   "cell_type": "code",
   "execution_count": 19,
   "id": "8952ece5-9071-4dd9-af22-a85bf35e4a45",
   "metadata": {},
   "outputs": [
    {
     "data": {
      "text/plain": [
       "array([[1, 2],\n",
       "       [3, 4]])"
      ]
     },
     "execution_count": 19,
     "metadata": {},
     "output_type": "execute_result"
    }
   ],
   "source": [
    "matrix1"
   ]
  },
  {
   "cell_type": "code",
   "execution_count": 20,
   "id": "940879bd-661a-4d0d-a241-47cc18a6d3f8",
   "metadata": {},
   "outputs": [
    {
     "data": {
      "text/plain": [
       "array([[5, 6],\n",
       "       [7, 7]])"
      ]
     },
     "execution_count": 20,
     "metadata": {},
     "output_type": "execute_result"
    }
   ],
   "source": [
    "matrix2"
   ]
  },
  {
   "cell_type": "code",
   "execution_count": 17,
   "id": "03a7e44b",
   "metadata": {},
   "outputs": [
    {
     "data": {
      "text/plain": [
       "array([[-4, -4],\n",
       "       [-4, -3]])"
      ]
     },
     "execution_count": 17,
     "metadata": {},
     "output_type": "execute_result"
    }
   ],
   "source": [
    "np.subtract(matrix1,matrix2)"
   ]
  },
  {
   "cell_type": "code",
   "execution_count": 18,
   "id": "6da7dd4b",
   "metadata": {},
   "outputs": [
    {
     "data": {
      "text/plain": [
       "array([[4, 4],\n",
       "       [4, 3]])"
      ]
     },
     "execution_count": 18,
     "metadata": {},
     "output_type": "execute_result"
    }
   ],
   "source": [
    "np.subtract(matrix2,matrix1)"
   ]
  },
  {
   "cell_type": "code",
   "execution_count": 21,
   "id": "28b0f5da",
   "metadata": {},
   "outputs": [],
   "source": [
    "# Division:"
   ]
  },
  {
   "cell_type": "code",
   "execution_count": 22,
   "id": "5208c463",
   "metadata": {},
   "outputs": [
    {
     "data": {
      "text/plain": [
       "array([[0.2       , 0.33333333],\n",
       "       [0.42857143, 0.57142857]])"
      ]
     },
     "execution_count": 22,
     "metadata": {},
     "output_type": "execute_result"
    }
   ],
   "source": [
    "matrix1 / matrix2"
   ]
  },
  {
   "cell_type": "code",
   "execution_count": 23,
   "id": "444691ee",
   "metadata": {},
   "outputs": [
    {
     "data": {
      "text/plain": [
       "array([[0.2       , 0.33333333],\n",
       "       [0.42857143, 0.57142857]])"
      ]
     },
     "execution_count": 23,
     "metadata": {},
     "output_type": "execute_result"
    }
   ],
   "source": [
    "np.divide(matrix1,matrix2)"
   ]
  },
  {
   "cell_type": "code",
   "execution_count": 24,
   "id": "749a8c1a",
   "metadata": {},
   "outputs": [
    {
     "data": {
      "text/plain": [
       "array([[1, 2],\n",
       "       [3, 4]])"
      ]
     },
     "execution_count": 24,
     "metadata": {},
     "output_type": "execute_result"
    }
   ],
   "source": [
    "matrix1"
   ]
  },
  {
   "cell_type": "code",
   "execution_count": 25,
   "id": "9b1bc02a-9b16-4a7b-b413-397d1c7fd6ff",
   "metadata": {},
   "outputs": [
    {
     "data": {
      "text/plain": [
       "array([[5, 6],\n",
       "       [7, 7]])"
      ]
     },
     "execution_count": 25,
     "metadata": {},
     "output_type": "execute_result"
    }
   ],
   "source": [
    "matrix2"
   ]
  },
  {
   "cell_type": "code",
   "execution_count": 26,
   "id": "57a48041",
   "metadata": {},
   "outputs": [],
   "source": [
    "# Multiplication:"
   ]
  },
  {
   "cell_type": "code",
   "execution_count": 27,
   "id": "18359483",
   "metadata": {},
   "outputs": [
    {
     "data": {
      "text/plain": [
       "array([[ 5, 12],\n",
       "       [21, 28]])"
      ]
     },
     "execution_count": 27,
     "metadata": {},
     "output_type": "execute_result"
    }
   ],
   "source": [
    "matrix1 * matrix2"
   ]
  },
  {
   "cell_type": "code",
   "execution_count": 29,
   "id": "0b641802",
   "metadata": {},
   "outputs": [
    {
     "data": {
      "text/plain": [
       "array([[ 5, 12],\n",
       "       [21, 28]])"
      ]
     },
     "execution_count": 29,
     "metadata": {},
     "output_type": "execute_result"
    }
   ],
   "source": [
    "np.multiply(matrix1,matrix2)"
   ]
  },
  {
   "cell_type": "code",
   "execution_count": null,
   "id": "44564f45",
   "metadata": {},
   "outputs": [],
   "source": []
  },
  {
   "cell_type": "markdown",
   "id": "0672447b",
   "metadata": {},
   "source": [
    "### Linear Algebra"
   ]
  },
  {
   "cell_type": "code",
   "execution_count": null,
   "id": "eee0fefb",
   "metadata": {},
   "outputs": [],
   "source": [
    "# np.dot(): Computes the dot product of two arrays. \n",
    "# np.linalg.inv(): Computes the inverse of a matrix.\n",
    "# np.linalg.det(): Computes the determinant of a matrix.\n",
    "# np.linalg.eig(): Computes the eigenvalues and right eigenvectors of a square array."
   ]
  },
  {
   "cell_type": "code",
   "execution_count": 32,
   "id": "b8a1b513-2d2a-4dea-b0bd-2cab55ece1f0",
   "metadata": {},
   "outputs": [
    {
     "data": {
      "text/plain": [
       "array([[1, 2],\n",
       "       [3, 4]])"
      ]
     },
     "execution_count": 32,
     "metadata": {},
     "output_type": "execute_result"
    }
   ],
   "source": [
    "matrix1"
   ]
  },
  {
   "cell_type": "code",
   "execution_count": 33,
   "id": "939c1f8f-61cf-46a6-a721-479ad6dbcad9",
   "metadata": {},
   "outputs": [
    {
     "data": {
      "text/plain": [
       "array([[5, 6],\n",
       "       [7, 7]])"
      ]
     },
     "execution_count": 33,
     "metadata": {},
     "output_type": "execute_result"
    }
   ],
   "source": [
    "matrix2"
   ]
  },
  {
   "cell_type": "code",
   "execution_count": 30,
   "id": "d6b23f04",
   "metadata": {},
   "outputs": [
    {
     "name": "stdout",
     "output_type": "stream",
     "text": [
      "[[19 20]\n",
      " [43 46]]\n"
     ]
    }
   ],
   "source": [
    "# Method 1: Using np.dot()\n",
    "result1 = np.dot(matrix1, matrix2)\n",
    "print(result1)"
   ]
  },
  {
   "cell_type": "code",
   "execution_count": 31,
   "id": "ac57d210",
   "metadata": {},
   "outputs": [
    {
     "name": "stdout",
     "output_type": "stream",
     "text": [
      "[[19 20]\n",
      " [43 46]]\n"
     ]
    }
   ],
   "source": [
    "# Method 2: Using @ operator\n",
    "result2 = matrix1 @ matrix2\n",
    "print(result2)"
   ]
  },
  {
   "cell_type": "code",
   "execution_count": null,
   "id": "a5621a27",
   "metadata": {},
   "outputs": [],
   "source": []
  },
  {
   "cell_type": "code",
   "execution_count": 34,
   "id": "dfe6d288-c55d-4557-978b-f52813b37dc7",
   "metadata": {},
   "outputs": [],
   "source": [
    "# Compute the determinant\n",
    "matrix = np.array([[1, 2], [3, 4]])"
   ]
  },
  {
   "cell_type": "code",
   "execution_count": 35,
   "id": "1a6f02ac-2349-4a2e-96b5-6ae277573f9d",
   "metadata": {},
   "outputs": [
    {
     "data": {
      "text/plain": [
       "array([[1, 2],\n",
       "       [3, 4]])"
      ]
     },
     "execution_count": 35,
     "metadata": {},
     "output_type": "execute_result"
    }
   ],
   "source": [
    "matrix"
   ]
  },
  {
   "cell_type": "code",
   "execution_count": 36,
   "id": "9eb31c5d-42d7-4dc5-a6ae-d26f4dd51e98",
   "metadata": {},
   "outputs": [
    {
     "name": "stdout",
     "output_type": "stream",
     "text": [
      "-2.0\n"
     ]
    }
   ],
   "source": [
    "det = np.linalg.det(matrix)\n",
    "print(round(det,2))"
   ]
  },
  {
   "cell_type": "code",
   "execution_count": null,
   "id": "f4bfb114-b7c6-4cc9-9085-a97ac8eff0a7",
   "metadata": {},
   "outputs": [],
   "source": []
  },
  {
   "cell_type": "code",
   "execution_count": 37,
   "id": "b991d73b",
   "metadata": {},
   "outputs": [
    {
     "name": "stdout",
     "output_type": "stream",
     "text": [
      "[[-2.   1. ]\n",
      " [ 1.5 -0.5]]\n"
     ]
    }
   ],
   "source": [
    "# calculate the inverse\n",
    "matrix_inv = np.linalg.inv(matrix)\n",
    "\n",
    "print(matrix_inv)"
   ]
  },
  {
   "cell_type": "code",
   "execution_count": 38,
   "id": "008b8eab",
   "metadata": {},
   "outputs": [
    {
     "data": {
      "text/plain": [
       "array([[1.0000000e+00, 0.0000000e+00],\n",
       "       [8.8817842e-16, 1.0000000e+00]])"
      ]
     },
     "execution_count": 38,
     "metadata": {},
     "output_type": "execute_result"
    }
   ],
   "source": [
    "#cross check     \n",
    "matrix @ matrix_inv"
   ]
  },
  {
   "cell_type": "code",
   "execution_count": 39,
   "id": "2cb6a710",
   "metadata": {},
   "outputs": [
    {
     "data": {
      "text/plain": [
       "array([[1., 0.],\n",
       "       [0., 1.]])"
      ]
     },
     "execution_count": 39,
     "metadata": {},
     "output_type": "execute_result"
    }
   ],
   "source": [
    "np.around(matrix @ matrix_inv)"
   ]
  },
  {
   "cell_type": "code",
   "execution_count": null,
   "id": "aba4196e",
   "metadata": {},
   "outputs": [],
   "source": []
  },
  {
   "cell_type": "code",
   "execution_count": 40,
   "id": "b8e0ff53",
   "metadata": {},
   "outputs": [
    {
     "data": {
      "text/plain": [
       "(array([-0.37228132,  5.37228132]),\n",
       " array([[-0.82456484, -0.41597356],\n",
       "        [ 0.56576746, -0.90937671]]))"
      ]
     },
     "execution_count": 40,
     "metadata": {},
     "output_type": "execute_result"
    }
   ],
   "source": [
    "np.linalg.eig(matrix)"
   ]
  },
  {
   "cell_type": "code",
   "execution_count": null,
   "id": "c1d1e644",
   "metadata": {},
   "outputs": [],
   "source": []
  },
  {
   "cell_type": "code",
   "execution_count": 43,
   "id": "7ad66d0c",
   "metadata": {},
   "outputs": [],
   "source": [
    "b=matrix.reshape((4,))"
   ]
  },
  {
   "cell_type": "code",
   "execution_count": null,
   "id": "78e28371-0559-45e8-96e0-60a30ef7c378",
   "metadata": {},
   "outputs": [],
   "source": [
    "1,2,3,4"
   ]
  },
  {
   "cell_type": "code",
   "execution_count": 44,
   "id": "304786cc-1c73-45c5-8827-6196dc5f8e2e",
   "metadata": {},
   "outputs": [
    {
     "data": {
      "text/plain": [
       "array([1, 2, 3, 4])"
      ]
     },
     "execution_count": 44,
     "metadata": {},
     "output_type": "execute_result"
    }
   ],
   "source": [
    "b"
   ]
  },
  {
   "cell_type": "code",
   "execution_count": 45,
   "id": "a5834339-782f-436c-9582-9c1a1c105846",
   "metadata": {},
   "outputs": [
    {
     "data": {
      "text/plain": [
       "4"
      ]
     },
     "execution_count": 45,
     "metadata": {},
     "output_type": "execute_result"
    }
   ],
   "source": [
    "b.max()"
   ]
  },
  {
   "cell_type": "code",
   "execution_count": 46,
   "id": "b897a371-a8d8-49df-b635-6a3b9b4ef29e",
   "metadata": {},
   "outputs": [],
   "source": [
    "c=[1, 2, 3, 4]"
   ]
  },
  {
   "cell_type": "code",
   "execution_count": 47,
   "id": "85870ebf-2509-47ab-a98b-21986fc244ff",
   "metadata": {},
   "outputs": [
    {
     "ename": "AttributeError",
     "evalue": "'list' object has no attribute 'max'",
     "output_type": "error",
     "traceback": [
      "\u001b[1;31m---------------------------------------------------------------------------\u001b[0m",
      "\u001b[1;31mAttributeError\u001b[0m                            Traceback (most recent call last)",
      "\u001b[1;32m~\\AppData\\Local\\Temp\\ipykernel_20580\\677290268.py\u001b[0m in \u001b[0;36m<module>\u001b[1;34m\u001b[0m\n\u001b[1;32m----> 1\u001b[1;33m \u001b[0mc\u001b[0m\u001b[1;33m.\u001b[0m\u001b[0mmax\u001b[0m\u001b[1;33m(\u001b[0m\u001b[1;33m)\u001b[0m\u001b[1;33m\u001b[0m\u001b[1;33m\u001b[0m\u001b[0m\n\u001b[0m",
      "\u001b[1;31mAttributeError\u001b[0m: 'list' object has no attribute 'max'"
     ]
    }
   ],
   "source": [
    "c.max()"
   ]
  },
  {
   "cell_type": "code",
   "execution_count": 48,
   "id": "17e041d5-3486-4139-83f5-1c089234b3c7",
   "metadata": {},
   "outputs": [
    {
     "data": {
      "text/plain": [
       "4"
      ]
     },
     "execution_count": 48,
     "metadata": {},
     "output_type": "execute_result"
    }
   ],
   "source": [
    "np.max(c)"
   ]
  },
  {
   "cell_type": "code",
   "execution_count": 51,
   "id": "010cf29e-5933-4218-a2a7-2b736f34b057",
   "metadata": {},
   "outputs": [
    {
     "data": {
      "text/plain": [
       "27"
      ]
     },
     "execution_count": 51,
     "metadata": {},
     "output_type": "execute_result"
    }
   ],
   "source": [
    "np.arange(1,28).size"
   ]
  },
  {
   "cell_type": "code",
   "execution_count": 52,
   "id": "9085d826-8ef8-4739-81b7-3e3317f4388e",
   "metadata": {},
   "outputs": [
    {
     "data": {
      "text/plain": [
       "array([[[ 1,  2,  3],\n",
       "        [ 4,  5,  6],\n",
       "        [ 7,  8,  9]],\n",
       "\n",
       "       [[10, 11, 12],\n",
       "        [13, 14, 15],\n",
       "        [16, 17, 18]],\n",
       "\n",
       "       [[19, 20, 21],\n",
       "        [22, 23, 24],\n",
       "        [25, 26, 27]]])"
      ]
     },
     "execution_count": 52,
     "metadata": {},
     "output_type": "execute_result"
    }
   ],
   "source": [
    "np.arange(1,28).reshape(3,3,3)\n",
    "                #    Frame  row column"
   ]
  },
  {
   "cell_type": "code",
   "execution_count": 53,
   "id": "5843ad6c-f4b3-49e4-8978-c0d0e6973fb8",
   "metadata": {},
   "outputs": [
    {
     "data": {
      "text/plain": [
       "60"
      ]
     },
     "execution_count": 53,
     "metadata": {},
     "output_type": "execute_result"
    }
   ],
   "source": [
    "5*3*4"
   ]
  },
  {
   "cell_type": "code",
   "execution_count": null,
   "id": "851c1105-8bfe-462f-9622-cc8a3efc7354",
   "metadata": {},
   "outputs": [],
   "source": [
    "4,3,5"
   ]
  },
  {
   "cell_type": "code",
   "execution_count": 55,
   "id": "a7ff5143-f7d1-4e68-ab58-36a7f39cca4d",
   "metadata": {},
   "outputs": [
    {
     "data": {
      "text/plain": [
       "array([[[ 1,  2,  3,  4,  5],\n",
       "        [ 6,  7,  8,  9, 10],\n",
       "        [11, 12, 13, 14, 15]],\n",
       "\n",
       "       [[16, 17, 18, 19, 20],\n",
       "        [21, 22, 23, 24, 25],\n",
       "        [26, 27, 28, 29, 30]],\n",
       "\n",
       "       [[31, 32, 33, 34, 35],\n",
       "        [36, 37, 38, 39, 40],\n",
       "        [41, 42, 43, 44, 45]],\n",
       "\n",
       "       [[46, 47, 48, 49, 50],\n",
       "        [51, 52, 53, 54, 55],\n",
       "        [56, 57, 58, 59, 60]]])"
      ]
     },
     "execution_count": 55,
     "metadata": {},
     "output_type": "execute_result"
    }
   ],
   "source": [
    "np.arange(1,61).reshape(4,3,5)"
   ]
  },
  {
   "cell_type": "code",
   "execution_count": null,
   "id": "e1ccbf5f-4c7c-4107-a6e5-12e37c34afa8",
   "metadata": {},
   "outputs": [],
   "source": [
    "# linespace()"
   ]
  },
  {
   "cell_type": "code",
   "execution_count": null,
   "id": "dd4697d2-9309-48b7-aa64-dcfab361f2d7",
   "metadata": {},
   "outputs": [],
   "source": []
  },
  {
   "cell_type": "code",
   "execution_count": null,
   "id": "d5a5e9b8",
   "metadata": {},
   "outputs": [],
   "source": [
    "#Exercise"
   ]
  },
  {
   "cell_type": "code",
   "execution_count": null,
   "id": "893790ee",
   "metadata": {},
   "outputs": [],
   "source": [
    "#Create array values and practice following examples\n",
    "arr=np.arange(10).reshape(5,2)"
   ]
  },
  {
   "cell_type": "code",
   "execution_count": null,
   "id": "6aa32b32",
   "metadata": {},
   "outputs": [],
   "source": [
    "# Finding the mean of a NumPy array:\n",
    "\n",
    "mean_val = np.mean(arr)\n",
    "mean_val"
   ]
  },
  {
   "cell_type": "code",
   "execution_count": null,
   "id": "ad0aee86",
   "metadata": {},
   "outputs": [],
   "source": [
    "# Finding the median of a NumPy array:\n",
    "\n",
    "median_val = np.median(arr)\n",
    "median_val"
   ]
  },
  {
   "cell_type": "code",
   "execution_count": null,
   "id": "a17a7433",
   "metadata": {},
   "outputs": [],
   "source": [
    "# Finding the standard deviation of a NumPy array:\n",
    "\n",
    "std_val = np.std(arr)\n",
    "std_val"
   ]
  },
  {
   "cell_type": "code",
   "execution_count": null,
   "id": "f92f7599",
   "metadata": {},
   "outputs": [],
   "source": [
    "var_val = np.var(arr)\n",
    "var_val"
   ]
  },
  {
   "cell_type": "code",
   "execution_count": null,
   "id": "f18245f1",
   "metadata": {},
   "outputs": [],
   "source": [
    "# Performing element-wise operations on NumPy arrays:\n",
    "\n",
    "arr_squared = arr ** 2\n",
    "arr_squared"
   ]
  },
  {
   "cell_type": "code",
   "execution_count": null,
   "id": "ce587433",
   "metadata": {},
   "outputs": [],
   "source": [
    "# create an array of data\n",
    "data = np.arange(100)\n",
    "\n",
    "# calculate the mean\n",
    "mean = np.mean(data)\n",
    "print(\"Mean:\", mean)\n",
    "\n",
    "# calculate the median\n",
    "median = np.median(data)\n",
    "print(\"Median:\", median)\n",
    "\n",
    "# calculate the variance\n",
    "variance = np.var(data)\n",
    "print(\"Variance:\", variance)\n",
    "\n",
    "# calculate the standard deviation\n",
    "std_dev = np.std(data)\n",
    "print(\"Standard deviation:\", std_dev)\n",
    "\n",
    "# calculate the minimum and maximum values\n",
    "minimum = np.min(data)\n",
    "maximum = np.max(data)\n",
    "print(\"Minimum:\", minimum)\n",
    "print(\"Maximum:\", maximum)"
   ]
  },
  {
   "cell_type": "code",
   "execution_count": null,
   "id": "23a95f3f-6d4e-4bd9-8b77-76beb216a064",
   "metadata": {},
   "outputs": [],
   "source": []
  },
  {
   "cell_type": "code",
   "execution_count": null,
   "id": "dd62f2d7-6cf0-4879-9b24-0bc0922d609f",
   "metadata": {},
   "outputs": [],
   "source": []
  }
 ],
 "metadata": {
  "kernelspec": {
   "display_name": "Python 3 (ipykernel)",
   "language": "python",
   "name": "python3"
  },
  "language_info": {
   "codemirror_mode": {
    "name": "ipython",
    "version": 3
   },
   "file_extension": ".py",
   "mimetype": "text/x-python",
   "name": "python",
   "nbconvert_exporter": "python",
   "pygments_lexer": "ipython3",
   "version": "3.9.7"
  }
 },
 "nbformat": 4,
 "nbformat_minor": 5
}
