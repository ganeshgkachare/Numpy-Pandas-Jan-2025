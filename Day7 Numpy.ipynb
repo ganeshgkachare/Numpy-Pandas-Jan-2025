{
 "cells": [
  {
   "cell_type": "code",
   "execution_count": null,
   "id": "3e1f1492-b225-4024-99fb-fd44fe59c4ce",
   "metadata": {},
   "outputs": [],
   "source": [
    "# Convert multi-dimensional arrays into one-dimensional arrays\n",
    "# M1) ravel :NumPy function (np.ravel() / arr.ravel()) : returns a view of the original array. Changes to the new array may affect the original array and vice versa.\n",
    "# M2) flatten :Array method (arr.flatten()) : returns a copy of the original array. Changes to the new array do not affect the original array.\n",
    "# M3) reshape / resize"
   ]
  },
  {
   "cell_type": "code",
   "execution_count": 2,
   "id": "11781673-6649-4930-9432-4968e1e30071",
   "metadata": {},
   "outputs": [],
   "source": [
    "import numpy as np"
   ]
  },
  {
   "cell_type": "code",
   "execution_count": 5,
   "id": "b1a35c70-8b11-4431-86a2-8c1aab56eb04",
   "metadata": {},
   "outputs": [],
   "source": [
    "a=np.arange(1,21).reshape(5,4)"
   ]
  },
  {
   "cell_type": "code",
   "execution_count": 6,
   "id": "23cbd28a-1752-4d0d-b6be-5c0e4278db01",
   "metadata": {},
   "outputs": [
    {
     "data": {
      "text/plain": [
       "array([[ 1,  2,  3,  4],\n",
       "       [ 5,  6,  7,  8],\n",
       "       [ 9, 10, 11, 12],\n",
       "       [13, 14, 15, 16],\n",
       "       [17, 18, 19, 20]])"
      ]
     },
     "execution_count": 6,
     "metadata": {},
     "output_type": "execute_result"
    }
   ],
   "source": [
    "a"
   ]
  },
  {
   "cell_type": "code",
   "execution_count": 7,
   "id": "5be9a239-4252-4582-8687-16b8f8225fd3",
   "metadata": {},
   "outputs": [
    {
     "data": {
      "text/plain": [
       "array([ 1,  2,  3,  4,  5,  6,  7,  8,  9, 10, 11, 12, 13, 14, 15, 16, 17,\n",
       "       18, 19, 20])"
      ]
     },
     "execution_count": 7,
     "metadata": {},
     "output_type": "execute_result"
    }
   ],
   "source": [
    "a.ravel()"
   ]
  },
  {
   "cell_type": "code",
   "execution_count": 8,
   "id": "85fffbba-46ed-436a-b684-1384ef819669",
   "metadata": {},
   "outputs": [
    {
     "data": {
      "text/plain": [
       "array([ 1,  2,  3,  4,  5,  6,  7,  8,  9, 10, 11, 12, 13, 14, 15, 16, 17,\n",
       "       18, 19, 20])"
      ]
     },
     "execution_count": 8,
     "metadata": {},
     "output_type": "execute_result"
    }
   ],
   "source": [
    "np.ravel(a)"
   ]
  },
  {
   "cell_type": "code",
   "execution_count": 10,
   "id": "45046871-4d5a-4305-b83a-111d94adc7c9",
   "metadata": {},
   "outputs": [],
   "source": [
    "# np.flatten(a) # does not works"
   ]
  },
  {
   "cell_type": "code",
   "execution_count": 11,
   "id": "19b9e33a-f759-4172-bdaa-6b420d6b8b9d",
   "metadata": {},
   "outputs": [
    {
     "data": {
      "text/plain": [
       "array([ 1,  2,  3,  4,  5,  6,  7,  8,  9, 10, 11, 12, 13, 14, 15, 16, 17,\n",
       "       18, 19, 20])"
      ]
     },
     "execution_count": 11,
     "metadata": {},
     "output_type": "execute_result"
    }
   ],
   "source": [
    "a.flatten()"
   ]
  },
  {
   "cell_type": "code",
   "execution_count": 12,
   "id": "731cdce0-babe-4a4b-af58-42503b931c8a",
   "metadata": {},
   "outputs": [],
   "source": [
    "ravel_out=a.ravel()"
   ]
  },
  {
   "cell_type": "code",
   "execution_count": 13,
   "id": "8564adff-a308-4927-b159-0a01113689bf",
   "metadata": {},
   "outputs": [],
   "source": [
    "flatten_out=a.flatten()"
   ]
  },
  {
   "cell_type": "code",
   "execution_count": 14,
   "id": "341a8198-0bd2-45b7-ad82-9201eb0c32da",
   "metadata": {},
   "outputs": [
    {
     "data": {
      "text/plain": [
       "array([ 1,  2,  3,  4,  5,  6,  7,  8,  9, 10, 11, 12, 13, 14, 15, 16, 17,\n",
       "       18, 19, 20])"
      ]
     },
     "execution_count": 14,
     "metadata": {},
     "output_type": "execute_result"
    }
   ],
   "source": [
    "ravel_out"
   ]
  },
  {
   "cell_type": "code",
   "execution_count": 15,
   "id": "e433d9da-de53-4126-8d18-a2712a0ac456",
   "metadata": {},
   "outputs": [
    {
     "data": {
      "text/plain": [
       "array([ 1,  2,  3,  4,  5,  6,  7,  8,  9, 10, 11, 12, 13, 14, 15, 16, 17,\n",
       "       18, 19, 20])"
      ]
     },
     "execution_count": 15,
     "metadata": {},
     "output_type": "execute_result"
    }
   ],
   "source": [
    "flatten_out"
   ]
  },
  {
   "cell_type": "code",
   "execution_count": 17,
   "id": "bf93fd7d-1dda-4687-ade7-9b9c4a3858ec",
   "metadata": {},
   "outputs": [],
   "source": [
    "flatten_out[2]=333"
   ]
  },
  {
   "cell_type": "code",
   "execution_count": 18,
   "id": "9997f5dd-4f35-4025-ad33-876d624877c2",
   "metadata": {},
   "outputs": [
    {
     "data": {
      "text/plain": [
       "array([  1,   2, 333,   4,   5,   6,   7,   8,   9,  10,  11,  12,  13,\n",
       "        14,  15,  16,  17,  18,  19,  20])"
      ]
     },
     "execution_count": 18,
     "metadata": {},
     "output_type": "execute_result"
    }
   ],
   "source": [
    "flatten_out"
   ]
  },
  {
   "cell_type": "code",
   "execution_count": 19,
   "id": "905766af-745f-4581-9c31-2d13f3c3c523",
   "metadata": {},
   "outputs": [
    {
     "data": {
      "text/plain": [
       "array([[ 1,  2,  3,  4],\n",
       "       [ 5,  6,  7,  8],\n",
       "       [ 9, 10, 11, 12],\n",
       "       [13, 14, 15, 16],\n",
       "       [17, 18, 19, 20]])"
      ]
     },
     "execution_count": 19,
     "metadata": {},
     "output_type": "execute_result"
    }
   ],
   "source": [
    "a"
   ]
  },
  {
   "cell_type": "code",
   "execution_count": 20,
   "id": "fefadd0a-f446-4660-93d3-b3faf4a6512a",
   "metadata": {},
   "outputs": [
    {
     "data": {
      "text/plain": [
       "6"
      ]
     },
     "execution_count": 20,
     "metadata": {},
     "output_type": "execute_result"
    }
   ],
   "source": [
    "a[1,1]"
   ]
  },
  {
   "cell_type": "code",
   "execution_count": 21,
   "id": "dfdc1403-2903-4c8a-ab1e-b1e68d677c3e",
   "metadata": {},
   "outputs": [],
   "source": [
    "a[1,1]=666"
   ]
  },
  {
   "cell_type": "code",
   "execution_count": 22,
   "id": "2f43f124-b9bb-4af6-a263-da50afabebb8",
   "metadata": {},
   "outputs": [
    {
     "data": {
      "text/plain": [
       "array([[  1,   2,   3,   4],\n",
       "       [  5, 666,   7,   8],\n",
       "       [  9,  10,  11,  12],\n",
       "       [ 13,  14,  15,  16],\n",
       "       [ 17,  18,  19,  20]])"
      ]
     },
     "execution_count": 22,
     "metadata": {},
     "output_type": "execute_result"
    }
   ],
   "source": [
    "a"
   ]
  },
  {
   "cell_type": "code",
   "execution_count": 23,
   "id": "0d0b12c3-cb64-4498-9b92-7e457f20b1c4",
   "metadata": {},
   "outputs": [
    {
     "data": {
      "text/plain": [
       "array([  1,   2, 333,   4,   5,   6,   7,   8,   9,  10,  11,  12,  13,\n",
       "        14,  15,  16,  17,  18,  19,  20])"
      ]
     },
     "execution_count": 23,
     "metadata": {},
     "output_type": "execute_result"
    }
   ],
   "source": [
    "flatten_out"
   ]
  },
  {
   "cell_type": "code",
   "execution_count": 24,
   "id": "6748f069-3ae1-46a5-8078-f08701b11836",
   "metadata": {},
   "outputs": [
    {
     "data": {
      "text/plain": [
       "array([  1,   2,   3,   4,   5, 666,   7,   8,   9,  10,  11,  12,  13,\n",
       "        14,  15,  16,  17,  18,  19,  20])"
      ]
     },
     "execution_count": 24,
     "metadata": {},
     "output_type": "execute_result"
    }
   ],
   "source": [
    "ravel_out"
   ]
  },
  {
   "cell_type": "code",
   "execution_count": 28,
   "id": "b2991ca6-e601-43ea-af4f-737537eedb0a",
   "metadata": {},
   "outputs": [
    {
     "data": {
      "text/plain": [
       "array([[  1,   2,   3,   4],\n",
       "       [  5, 666,   7,   8],\n",
       "       [  9,  10,  11,  12],\n",
       "       [ 13,  14,  15,  16],\n",
       "       [ 17,  18,  19,  20]])"
      ]
     },
     "execution_count": 28,
     "metadata": {},
     "output_type": "execute_result"
    }
   ],
   "source": [
    "a"
   ]
  },
  {
   "cell_type": "code",
   "execution_count": 29,
   "id": "496442a5-9429-4e30-8488-7adacf9631f7",
   "metadata": {},
   "outputs": [],
   "source": [
    "ravel_out[4]=555"
   ]
  },
  {
   "cell_type": "code",
   "execution_count": 30,
   "id": "7df2cafc-e3f0-4bb8-8bb6-6e8e54ecbd37",
   "metadata": {},
   "outputs": [
    {
     "data": {
      "text/plain": [
       "array([  1,   2,   3,   4, 555, 666,   7,   8,   9,  10,  11,  12,  13,\n",
       "        14,  15,  16,  17,  18,  19,  20])"
      ]
     },
     "execution_count": 30,
     "metadata": {},
     "output_type": "execute_result"
    }
   ],
   "source": [
    "ravel_out"
   ]
  },
  {
   "cell_type": "code",
   "execution_count": 33,
   "id": "f4218d34-dff0-4125-9ce4-5170227d1c15",
   "metadata": {},
   "outputs": [
    {
     "data": {
      "text/plain": [
       "(20,)"
      ]
     },
     "execution_count": 33,
     "metadata": {},
     "output_type": "execute_result"
    }
   ],
   "source": [
    "ravel_out.shape"
   ]
  },
  {
   "cell_type": "code",
   "execution_count": 31,
   "id": "e4c0a9bf-d34b-4bac-a509-0aab61d377fb",
   "metadata": {},
   "outputs": [
    {
     "data": {
      "text/plain": [
       "array([[  1,   2,   3,   4],\n",
       "       [555, 666,   7,   8],\n",
       "       [  9,  10,  11,  12],\n",
       "       [ 13,  14,  15,  16],\n",
       "       [ 17,  18,  19,  20]])"
      ]
     },
     "execution_count": 31,
     "metadata": {},
     "output_type": "execute_result"
    }
   ],
   "source": [
    "a"
   ]
  },
  {
   "cell_type": "code",
   "execution_count": null,
   "id": "016d0c62-c9e4-4567-abf4-0eecf1ca6032",
   "metadata": {},
   "outputs": [],
   "source": [
    "# ravel and flatten method used to convert multi dimensional array to 1D array\n",
    "# If you change any element either its output or original array it will reflect each other when we used ravel\n",
    "# If you change any element either its output or original array it does not reflect each other when we used flatten. Changes reflected itself only"
   ]
  },
  {
   "cell_type": "code",
   "execution_count": 32,
   "id": "c4dbad66-5a62-4f2c-8229-f9263e65b2cf",
   "metadata": {},
   "outputs": [
    {
     "data": {
      "text/plain": [
       "array([[  1,   2,   3,   4],\n",
       "       [555, 666,   7,   8],\n",
       "       [  9,  10,  11,  12],\n",
       "       [ 13,  14,  15,  16],\n",
       "       [ 17,  18,  19,  20]])"
      ]
     },
     "execution_count": 32,
     "metadata": {},
     "output_type": "execute_result"
    }
   ],
   "source": [
    "a"
   ]
  },
  {
   "cell_type": "code",
   "execution_count": 34,
   "id": "097772ed-bb1b-4169-aaee-b0a9f653a233",
   "metadata": {},
   "outputs": [
    {
     "data": {
      "text/plain": [
       "array([  1,   2,   3,   4, 555, 666,   7,   8,   9,  10,  11,  12,  13,\n",
       "        14,  15,  16,  17,  18,  19,  20])"
      ]
     },
     "execution_count": 34,
     "metadata": {},
     "output_type": "execute_result"
    }
   ],
   "source": [
    "a.reshape((20,))"
   ]
  },
  {
   "cell_type": "code",
   "execution_count": null,
   "id": "d428aa86-747d-4422-be46-c432dd83931a",
   "metadata": {},
   "outputs": [],
   "source": []
  },
  {
   "cell_type": "code",
   "execution_count": null,
   "id": "c4e79c07-063a-4245-b477-232f8188a2ea",
   "metadata": {},
   "outputs": [],
   "source": []
  },
  {
   "cell_type": "raw",
   "id": "b0cc0570",
   "metadata": {},
   "source": [
    "NumPy provides several functions to calculate descriptive statistics of arrays, such as mean, median, mode, variance, standard deviation, minimum and maximum values, and more. Here are some examples of how to use these functions:"
   ]
  },
  {
   "cell_type": "code",
   "execution_count": 35,
   "id": "9ad5d34f-a81b-4af4-a179-08d9ae7c0c89",
   "metadata": {},
   "outputs": [],
   "source": [
    "l=list(range(2,22,2))"
   ]
  },
  {
   "cell_type": "code",
   "execution_count": null,
   "id": "10a429f0-acd5-4eb1-ab37-f809f6a54695",
   "metadata": {},
   "outputs": [],
   "source": [
    "# Find out summation of elements stored in above list"
   ]
  },
  {
   "cell_type": "code",
   "execution_count": 36,
   "id": "bda985d4-4a19-4c8c-98f3-4c00a7c3e2ad",
   "metadata": {},
   "outputs": [
    {
     "data": {
      "text/plain": [
       "[2, 4, 6, 8, 10, 12, 14, 16, 18, 20]"
      ]
     },
     "execution_count": 36,
     "metadata": {},
     "output_type": "execute_result"
    }
   ],
   "source": [
    "l"
   ]
  },
  {
   "cell_type": "code",
   "execution_count": null,
   "id": "ff9f773f-9dc8-4a46-a15d-ec8bab5ae09a",
   "metadata": {},
   "outputs": [],
   "source": [
    "for x in l:\n",
    "    l.append(l+2)"
   ]
  },
  {
   "cell_type": "code",
   "execution_count": 37,
   "id": "42d496f7-1ec7-45b2-9b38-efaaba37b281",
   "metadata": {},
   "outputs": [],
   "source": [
    "list_sum=0\n",
    "for x in l:\n",
    "    list_sum=list_sum+x\n",
    "    "
   ]
  },
  {
   "cell_type": "code",
   "execution_count": 38,
   "id": "3fcf987d-1ded-46a0-9d7b-23327b434203",
   "metadata": {},
   "outputs": [
    {
     "data": {
      "text/plain": [
       "110"
      ]
     },
     "execution_count": 38,
     "metadata": {},
     "output_type": "execute_result"
    }
   ],
   "source": [
    "list_sum"
   ]
  },
  {
   "cell_type": "code",
   "execution_count": 40,
   "id": "60517184-f23f-484f-a040-fa3a7a994e5e",
   "metadata": {},
   "outputs": [],
   "source": [
    "a=np.arange(2,22,2)"
   ]
  },
  {
   "cell_type": "code",
   "execution_count": 41,
   "id": "23d05ac9-dab7-4dd7-9057-ac2171bf0e93",
   "metadata": {},
   "outputs": [
    {
     "data": {
      "text/plain": [
       "110"
      ]
     },
     "execution_count": 41,
     "metadata": {},
     "output_type": "execute_result"
    }
   ],
   "source": [
    "a.sum()"
   ]
  },
  {
   "cell_type": "code",
   "execution_count": null,
   "id": "89801908-bfa4-4dca-86b0-2d837e1e6eb3",
   "metadata": {},
   "outputs": [],
   "source": []
  }
 ],
 "metadata": {
  "kernelspec": {
   "display_name": "Python 3 (ipykernel)",
   "language": "python",
   "name": "python3"
  },
  "language_info": {
   "codemirror_mode": {
    "name": "ipython",
    "version": 3
   },
   "file_extension": ".py",
   "mimetype": "text/x-python",
   "name": "python",
   "nbconvert_exporter": "python",
   "pygments_lexer": "ipython3",
   "version": "3.9.7"
  }
 },
 "nbformat": 4,
 "nbformat_minor": 5
}
