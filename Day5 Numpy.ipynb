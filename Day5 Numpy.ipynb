{
 "cells": [
  {
   "cell_type": "code",
   "execution_count": 3,
   "id": "3709c71c",
   "metadata": {},
   "outputs": [],
   "source": [
    "import numpy as np  #import numpy"
   ]
  },
  {
   "cell_type": "code",
   "execution_count": 4,
   "id": "d27a831c",
   "metadata": {},
   "outputs": [],
   "source": [
    "# Reshape:\n",
    "\n",
    "# M1\n",
    "# np.reshape(data,shape,order(Fill_by))\n",
    "# shape= (row,col)\n",
    "# order (Fill_by) \"C\" ===> Fill_by Row\n",
    "#         \"F\" ===> Fill_by column\n",
    "\n",
    "# M2\n",
    "# Array.reshape(shape,Fill_by)  # need to define parameter name order\n",
    "# shape= (row,col)\n",
    "# Fill_by \"C\" ===> Fill_by Row\n",
    "#         \"F\" ===> Fill_by column"
   ]
  },
  {
   "cell_type": "code",
   "execution_count": 30,
   "id": "fddfb7d9",
   "metadata": {},
   "outputs": [],
   "source": [
    "a=np.arange(1,11)"
   ]
  },
  {
   "cell_type": "code",
   "execution_count": 31,
   "id": "616ac757-9fe0-4489-8ba2-9774aa49e255",
   "metadata": {},
   "outputs": [
    {
     "data": {
      "text/plain": [
       "array([ 1,  2,  3,  4,  5,  6,  7,  8,  9, 10])"
      ]
     },
     "execution_count": 31,
     "metadata": {},
     "output_type": "execute_result"
    }
   ],
   "source": [
    "a"
   ]
  },
  {
   "cell_type": "code",
   "execution_count": 6,
   "id": "209f7007-fd5a-462a-a14f-4226f8b65d88",
   "metadata": {},
   "outputs": [],
   "source": [
    "# M1"
   ]
  },
  {
   "cell_type": "code",
   "execution_count": 13,
   "id": "359d9b2a-aa63-4593-a6c2-0c6bf74c9f6a",
   "metadata": {},
   "outputs": [
    {
     "data": {
      "text/plain": [
       "array([[ 1,  3,  5,  7,  9],\n",
       "       [ 2,  4,  6,  8, 10]])"
      ]
     },
     "execution_count": 13,
     "metadata": {},
     "output_type": "execute_result"
    }
   ],
   "source": [
    "a.reshape((2,5),order=\"F\")"
   ]
  },
  {
   "cell_type": "code",
   "execution_count": 15,
   "id": "c648ef71-6517-43d9-bc1b-69bd66d0c829",
   "metadata": {},
   "outputs": [
    {
     "ename": "TypeError",
     "evalue": "'tuple' object cannot be interpreted as an integer",
     "output_type": "error",
     "traceback": [
      "\u001b[1;31m---------------------------------------------------------------------------\u001b[0m",
      "\u001b[1;31mTypeError\u001b[0m                                 Traceback (most recent call last)",
      "\u001b[1;32m~\\AppData\\Local\\Temp\\ipykernel_23372\\384794626.py\u001b[0m in \u001b[0;36m<module>\u001b[1;34m\u001b[0m\n\u001b[1;32m----> 1\u001b[1;33m \u001b[0ma\u001b[0m\u001b[1;33m.\u001b[0m\u001b[0mreshape\u001b[0m\u001b[1;33m(\u001b[0m\u001b[1;33m(\u001b[0m\u001b[1;36m2\u001b[0m\u001b[1;33m,\u001b[0m\u001b[1;36m5\u001b[0m\u001b[1;33m)\u001b[0m\u001b[1;33m,\u001b[0m\u001b[1;34m\"F\"\u001b[0m\u001b[1;33m)\u001b[0m\u001b[1;33m\u001b[0m\u001b[1;33m\u001b[0m\u001b[0m\n\u001b[0m",
      "\u001b[1;31mTypeError\u001b[0m: 'tuple' object cannot be interpreted as an integer"
     ]
    }
   ],
   "source": [
    "a.reshape((2,5),\"F\")"
   ]
  },
  {
   "cell_type": "code",
   "execution_count": 16,
   "id": "79cb5644",
   "metadata": {},
   "outputs": [
    {
     "data": {
      "text/plain": [
       "array([[ 1,  3,  5,  7,  9],\n",
       "       [ 2,  4,  6,  8, 10]])"
      ]
     },
     "execution_count": 16,
     "metadata": {},
     "output_type": "execute_result"
    }
   ],
   "source": [
    "a.reshape((2,5),order=\"F\")"
   ]
  },
  {
   "cell_type": "code",
   "execution_count": 17,
   "id": "0335f169-eca2-4085-a81c-7122c7e3845d",
   "metadata": {},
   "outputs": [
    {
     "data": {
      "text/plain": [
       "array([[ 1,  3,  5,  7,  9],\n",
       "       [ 2,  4,  6,  8, 10]])"
      ]
     },
     "execution_count": 17,
     "metadata": {},
     "output_type": "execute_result"
    }
   ],
   "source": [
    "a.reshape(2,5,order=\"F\")"
   ]
  },
  {
   "cell_type": "code",
   "execution_count": null,
   "id": "4ceec396-53ca-4e01-8a96-433ad38897a1",
   "metadata": {},
   "outputs": [],
   "source": [
    "# M2"
   ]
  },
  {
   "cell_type": "code",
   "execution_count": 32,
   "id": "5d600442-4207-4c7f-af90-fffef59a582e",
   "metadata": {},
   "outputs": [
    {
     "data": {
      "text/plain": [
       "array([ 1,  2,  3,  4,  5,  6,  7,  8,  9, 10])"
      ]
     },
     "execution_count": 32,
     "metadata": {},
     "output_type": "execute_result"
    }
   ],
   "source": [
    "a"
   ]
  },
  {
   "cell_type": "code",
   "execution_count": 22,
   "id": "d4d8983b",
   "metadata": {},
   "outputs": [],
   "source": [
    "c=np.reshape(a,(2,5),\"C\")"
   ]
  },
  {
   "cell_type": "code",
   "execution_count": 23,
   "id": "93d32f11-0b08-4f2e-9f0f-33c40acf868e",
   "metadata": {},
   "outputs": [
    {
     "data": {
      "text/plain": [
       "array([[ 1,  2,  3,  4,  5],\n",
       "       [ 6,  7,  8,  9, 10]])"
      ]
     },
     "execution_count": 23,
     "metadata": {},
     "output_type": "execute_result"
    }
   ],
   "source": [
    "c"
   ]
  },
  {
   "cell_type": "code",
   "execution_count": 24,
   "id": "4d98771b-1294-4882-b773-d8d2623db04d",
   "metadata": {},
   "outputs": [
    {
     "data": {
      "text/plain": [
       "array([ 1,  2,  3,  4,  5,  6,  7,  8,  9, 10])"
      ]
     },
     "execution_count": 24,
     "metadata": {},
     "output_type": "execute_result"
    }
   ],
   "source": [
    "a"
   ]
  },
  {
   "cell_type": "code",
   "execution_count": 20,
   "id": "6b31f42d",
   "metadata": {},
   "outputs": [
    {
     "data": {
      "text/plain": [
       "array([[ 1,  3,  5,  7,  9],\n",
       "       [ 2,  4,  6,  8, 10]])"
      ]
     },
     "execution_count": 20,
     "metadata": {},
     "output_type": "execute_result"
    }
   ],
   "source": [
    "np.reshape(a,(2,5),order=\"F\")"
   ]
  },
  {
   "cell_type": "code",
   "execution_count": null,
   "id": "90a7dd9f",
   "metadata": {},
   "outputs": [],
   "source": [
    "np.reshape(a,(2,6),\"C\")"
   ]
  },
  {
   "cell_type": "code",
   "execution_count": 25,
   "id": "10adbc2a",
   "metadata": {},
   "outputs": [],
   "source": [
    "#Examples"
   ]
  },
  {
   "cell_type": "code",
   "execution_count": 26,
   "id": "d6d4388a",
   "metadata": {},
   "outputs": [
    {
     "name": "stdout",
     "output_type": "stream",
     "text": [
      "[[ 0  1  2  3  4  5]\n",
      " [ 6  7  8  9 10 11]\n",
      " [12 13 14 15 16 17]]\n"
     ]
    }
   ],
   "source": [
    "a = np.arange(18).reshape(3,6)\n",
    "print(a)"
   ]
  },
  {
   "cell_type": "code",
   "execution_count": null,
   "id": "05f660b8",
   "metadata": {},
   "outputs": [],
   "source": [
    "a = np.arange(15).reshape(3,5) #rowwise\n",
    "print(a)"
   ]
  },
  {
   "cell_type": "code",
   "execution_count": null,
   "id": "461d3ad9",
   "metadata": {},
   "outputs": [],
   "source": [
    "a = np.arange(15).reshape((3,5),order=\"F\") #columnwise\n",
    "print(a)"
   ]
  },
  {
   "cell_type": "code",
   "execution_count": null,
   "id": "6416863f",
   "metadata": {},
   "outputs": [],
   "source": [
    "a = np.arange(15).reshape(2,7)\n",
    "print(a)"
   ]
  },
  {
   "cell_type": "code",
   "execution_count": null,
   "id": "6fb84602",
   "metadata": {},
   "outputs": [],
   "source": [
    "a = np.arange(16)\n",
    "print(a)"
   ]
  },
  {
   "cell_type": "code",
   "execution_count": null,
   "id": "82897715",
   "metadata": {},
   "outputs": [],
   "source": [
    "a = np.arange(16).reshape(2,8)\n",
    "print(a)"
   ]
  },
  {
   "cell_type": "code",
   "execution_count": null,
   "id": "cae9f891",
   "metadata": {},
   "outputs": [],
   "source": [
    "a = np.arange(16).reshape(4,4)\n",
    "print(a)"
   ]
  },
  {
   "cell_type": "code",
   "execution_count": null,
   "id": "dcefb23a",
   "metadata": {},
   "outputs": [],
   "source": []
  },
  {
   "cell_type": "code",
   "execution_count": null,
   "id": "dac4d9fe",
   "metadata": {},
   "outputs": [],
   "source": [
    "a = np.array([[1,2,3,4],[5,6,7,8],[9,10,11,12],[13,14,15,16]]) # Matrix of 4x4\n",
    "print(a)"
   ]
  },
  {
   "cell_type": "code",
   "execution_count": null,
   "id": "b3aed38d",
   "metadata": {},
   "outputs": [],
   "source": [
    "a.ndim"
   ]
  },
  {
   "cell_type": "code",
   "execution_count": null,
   "id": "05fe0f65",
   "metadata": {},
   "outputs": [],
   "source": [
    "a.size"
   ]
  },
  {
   "cell_type": "code",
   "execution_count": null,
   "id": "f3986990",
   "metadata": {},
   "outputs": [],
   "source": []
  },
  {
   "cell_type": "code",
   "execution_count": null,
   "id": "deb5fc03",
   "metadata": {},
   "outputs": [],
   "source": [
    "a = a.reshape(2,8) # Reshape 2x8\n",
    "print(a)"
   ]
  },
  {
   "cell_type": "code",
   "execution_count": null,
   "id": "9c63a914",
   "metadata": {},
   "outputs": [],
   "source": [
    "a = a.reshape(8,2) # Reshape 2x8\n",
    "print(a)"
   ]
  },
  {
   "cell_type": "code",
   "execution_count": null,
   "id": "81ea71da",
   "metadata": {},
   "outputs": [],
   "source": [
    "a = a.reshape(4,4) \n",
    "print(a)"
   ]
  },
  {
   "cell_type": "code",
   "execution_count": null,
   "id": "f51bf9c2",
   "metadata": {},
   "outputs": [],
   "source": [
    "a = a.reshape(16,1) \n",
    "print(a)"
   ]
  },
  {
   "cell_type": "code",
   "execution_count": null,
   "id": "2444a643-3c6a-46fd-9b39-b35d8e911528",
   "metadata": {},
   "outputs": [],
   "source": [
    "a = a.reshape(1,16) \n",
    "print(a)"
   ]
  },
  {
   "cell_type": "code",
   "execution_count": null,
   "id": "e14b2a4e-feab-4b53-8817-d3cc7f9c2b6c",
   "metadata": {},
   "outputs": [],
   "source": []
  },
  {
   "cell_type": "code",
   "execution_count": null,
   "id": "4e69126b-20aa-49ad-9bec-632b142f9062",
   "metadata": {},
   "outputs": [],
   "source": [
    "#resize()\n",
    "# It changes the original array directly and does not return a new array"
   ]
  },
  {
   "cell_type": "code",
   "execution_count": 34,
   "id": "92867ac5-a7b7-4625-aefd-1b2a9a09586e",
   "metadata": {},
   "outputs": [],
   "source": [
    "# M1) array.resize(new_shape) \n",
    "      # Input data (array) must be array. \n",
    "      # Change in itself does not create new array\n",
    "# M2) np.resize(input1_dat,new_shape) \n",
    "      # input data may be array, list, tuple\n",
    "      # It create new array\n",
    "\n",
    "# If required values is less or grater then we can handle using reference check =False (refcheck=False). By deafault refcheck=True"
   ]
  },
  {
   "cell_type": "code",
   "execution_count": 44,
   "id": "1a03430a-59ec-4d16-848f-13f1b93936da",
   "metadata": {},
   "outputs": [],
   "source": [
    "a2=np.arange(1,13)"
   ]
  },
  {
   "cell_type": "code",
   "execution_count": 45,
   "id": "74bdcd83-445e-430a-bd86-e9deefaca09d",
   "metadata": {},
   "outputs": [
    {
     "data": {
      "text/plain": [
       "array([ 1,  2,  3,  4,  5,  6,  7,  8,  9, 10, 11, 12])"
      ]
     },
     "execution_count": 45,
     "metadata": {},
     "output_type": "execute_result"
    }
   ],
   "source": [
    "a2"
   ]
  },
  {
   "cell_type": "code",
   "execution_count": 46,
   "id": "224e7810-ddcf-4454-a931-6d4181372adb",
   "metadata": {},
   "outputs": [],
   "source": [
    "a2.resize(4,3)  #1,12  4,3  3,4  12,1"
   ]
  },
  {
   "cell_type": "code",
   "execution_count": 47,
   "id": "5a6de5f0-bc2d-4523-8a4f-1d3068edecc2",
   "metadata": {},
   "outputs": [],
   "source": [
    "k2=a2.resize(4,3)"
   ]
  },
  {
   "cell_type": "code",
   "execution_count": 48,
   "id": "cf60f665-ae7e-4f11-ab9a-20b319c5f40b",
   "metadata": {},
   "outputs": [],
   "source": [
    "k2"
   ]
  },
  {
   "cell_type": "code",
   "execution_count": 49,
   "id": "4b2142a1-b03b-43cc-9577-4b5f20942d21",
   "metadata": {},
   "outputs": [
    {
     "data": {
      "text/plain": [
       "array([[ 1,  2,  3],\n",
       "       [ 4,  5,  6],\n",
       "       [ 7,  8,  9],\n",
       "       [10, 11, 12]])"
      ]
     },
     "execution_count": 49,
     "metadata": {},
     "output_type": "execute_result"
    }
   ],
   "source": [
    "a2"
   ]
  },
  {
   "cell_type": "code",
   "execution_count": 50,
   "id": "e332982c-297d-4caa-b804-001258bffef2",
   "metadata": {},
   "outputs": [],
   "source": [
    "a2.resize(3,4)"
   ]
  },
  {
   "cell_type": "code",
   "execution_count": 51,
   "id": "0f674f95-a3ab-404f-9f55-27724800c304",
   "metadata": {},
   "outputs": [
    {
     "data": {
      "text/plain": [
       "array([[ 1,  2,  3,  4],\n",
       "       [ 5,  6,  7,  8],\n",
       "       [ 9, 10, 11, 12]])"
      ]
     },
     "execution_count": 51,
     "metadata": {},
     "output_type": "execute_result"
    }
   ],
   "source": [
    "a2"
   ]
  },
  {
   "cell_type": "code",
   "execution_count": 53,
   "id": "01755054-5e98-42c3-ab8c-6460d754c6f1",
   "metadata": {},
   "outputs": [],
   "source": [
    "a2.resize(3,5,refcheck=False)"
   ]
  },
  {
   "cell_type": "code",
   "execution_count": 54,
   "id": "86f51a48-1c2e-4106-a6fb-1d57f65a68d6",
   "metadata": {},
   "outputs": [
    {
     "data": {
      "text/plain": [
       "array([[ 1,  2,  3,  4,  5],\n",
       "       [ 6,  7,  8,  9, 10],\n",
       "       [11, 12,  0,  0,  0]])"
      ]
     },
     "execution_count": 54,
     "metadata": {},
     "output_type": "execute_result"
    }
   ],
   "source": [
    "a2"
   ]
  },
  {
   "cell_type": "code",
   "execution_count": 56,
   "id": "03f23516-6e55-47f7-b249-ac2cf36f6c89",
   "metadata": {},
   "outputs": [],
   "source": [
    "b2=list(range(1,13))"
   ]
  },
  {
   "cell_type": "code",
   "execution_count": 57,
   "id": "4386a865-1ba4-447e-9507-f4f8137c3c9e",
   "metadata": {},
   "outputs": [
    {
     "data": {
      "text/plain": [
       "[1, 2, 3, 4, 5, 6, 7, 8, 9, 10, 11, 12]"
      ]
     },
     "execution_count": 57,
     "metadata": {},
     "output_type": "execute_result"
    }
   ],
   "source": [
    "b2"
   ]
  },
  {
   "cell_type": "code",
   "execution_count": 58,
   "id": "eb036746-984b-4b75-b8c6-0bc473a99ef1",
   "metadata": {},
   "outputs": [
    {
     "data": {
      "text/plain": [
       "array([[ 1,  2,  3],\n",
       "       [ 4,  5,  6],\n",
       "       [ 7,  8,  9],\n",
       "       [10, 11, 12]])"
      ]
     },
     "execution_count": 58,
     "metadata": {},
     "output_type": "execute_result"
    }
   ],
   "source": [
    "np.resize(b2,(4,3))"
   ]
  },
  {
   "cell_type": "code",
   "execution_count": 59,
   "id": "4947e4c4-e5a3-46fa-9780-4b80e48d6891",
   "metadata": {},
   "outputs": [
    {
     "data": {
      "text/plain": [
       "[1, 2, 3, 4, 5, 6, 7, 8, 9, 10, 11, 12]"
      ]
     },
     "execution_count": 59,
     "metadata": {},
     "output_type": "execute_result"
    }
   ],
   "source": [
    "b2"
   ]
  },
  {
   "cell_type": "code",
   "execution_count": 60,
   "id": "016a1d0d-0d11-470c-acc0-6d4ebe68b7d8",
   "metadata": {},
   "outputs": [],
   "source": [
    "b3=np.arange(1,13)"
   ]
  },
  {
   "cell_type": "code",
   "execution_count": 61,
   "id": "51d25d9f-3f72-465d-980b-19869ab5bad5",
   "metadata": {},
   "outputs": [
    {
     "data": {
      "text/plain": [
       "array([[ 1,  2,  3],\n",
       "       [ 4,  5,  6],\n",
       "       [ 7,  8,  9],\n",
       "       [10, 11, 12]])"
      ]
     },
     "execution_count": 61,
     "metadata": {},
     "output_type": "execute_result"
    }
   ],
   "source": [
    "np.resize(b3,(4,3))"
   ]
  },
  {
   "cell_type": "code",
   "execution_count": 62,
   "id": "b79343aa-0d0a-466e-bdcb-239aeb10459c",
   "metadata": {},
   "outputs": [
    {
     "data": {
      "text/plain": [
       "array([ 1,  2,  3,  4,  5,  6,  7,  8,  9, 10, 11, 12])"
      ]
     },
     "execution_count": 62,
     "metadata": {},
     "output_type": "execute_result"
    }
   ],
   "source": [
    "b3"
   ]
  },
  {
   "cell_type": "code",
   "execution_count": null,
   "id": "1e131cb8-c571-4936-b9c1-b5bf818c136b",
   "metadata": {},
   "outputs": [],
   "source": []
  },
  {
   "cell_type": "markdown",
   "id": "9bfbb858-8041-4d05-979d-70a70bd5f5d9",
   "metadata": {},
   "source": [
    "### Transpose"
   ]
  },
  {
   "cell_type": "code",
   "execution_count": null,
   "id": "d58df03b-f0cc-4498-821e-63379dd2c3bd",
   "metadata": {},
   "outputs": [],
   "source": [
    "# M1) arr.T\n",
    "# M2) arr.transpose()"
   ]
  },
  {
   "cell_type": "code",
   "execution_count": null,
   "id": "4ac20dd1-df16-454d-841a-60d16ed38f1d",
   "metadata": {},
   "outputs": [],
   "source": []
  },
  {
   "cell_type": "code",
   "execution_count": 63,
   "id": "63bab9ff-d93b-4b2b-b14d-da67b5af9ac9",
   "metadata": {},
   "outputs": [],
   "source": [
    "arr=np.arange(1,13)"
   ]
  },
  {
   "cell_type": "code",
   "execution_count": 64,
   "id": "269479c0-6577-4c9f-9233-d4ccfed2b1eb",
   "metadata": {},
   "outputs": [
    {
     "data": {
      "text/plain": [
       "array([ 1,  2,  3,  4,  5,  6,  7,  8,  9, 10, 11, 12])"
      ]
     },
     "execution_count": 64,
     "metadata": {},
     "output_type": "execute_result"
    }
   ],
   "source": [
    "arr"
   ]
  },
  {
   "cell_type": "code",
   "execution_count": 65,
   "id": "a5f8db12-fe28-417e-b871-3a4ac384424c",
   "metadata": {},
   "outputs": [],
   "source": [
    "arr.resize(4,3)"
   ]
  },
  {
   "cell_type": "code",
   "execution_count": 66,
   "id": "37fe6459-b548-4e96-9c13-8d8fd541fe12",
   "metadata": {},
   "outputs": [
    {
     "data": {
      "text/plain": [
       "array([[ 1,  2,  3],\n",
       "       [ 4,  5,  6],\n",
       "       [ 7,  8,  9],\n",
       "       [10, 11, 12]])"
      ]
     },
     "execution_count": 66,
     "metadata": {},
     "output_type": "execute_result"
    }
   ],
   "source": [
    "arr"
   ]
  },
  {
   "cell_type": "code",
   "execution_count": 67,
   "id": "60542095-4b35-49de-a530-28da8143af30",
   "metadata": {},
   "outputs": [
    {
     "data": {
      "text/plain": [
       "array([[ 1,  4,  7, 10],\n",
       "       [ 2,  5,  8, 11],\n",
       "       [ 3,  6,  9, 12]])"
      ]
     },
     "execution_count": 67,
     "metadata": {},
     "output_type": "execute_result"
    }
   ],
   "source": [
    "arr.T"
   ]
  },
  {
   "cell_type": "code",
   "execution_count": 69,
   "id": "b5e5b14d-86af-4e37-be54-cd7504ef8061",
   "metadata": {},
   "outputs": [
    {
     "data": {
      "text/plain": [
       "array([[ 1,  2,  3],\n",
       "       [ 4,  5,  6],\n",
       "       [ 7,  8,  9],\n",
       "       [10, 11, 12]])"
      ]
     },
     "execution_count": 69,
     "metadata": {},
     "output_type": "execute_result"
    }
   ],
   "source": [
    "arr.T.T"
   ]
  },
  {
   "cell_type": "code",
   "execution_count": 68,
   "id": "dff12bd0-4a90-463d-9fe0-c842dfe96b5f",
   "metadata": {},
   "outputs": [
    {
     "data": {
      "text/plain": [
       "array([[ 1,  4,  7, 10],\n",
       "       [ 2,  5,  8, 11],\n",
       "       [ 3,  6,  9, 12]])"
      ]
     },
     "execution_count": 68,
     "metadata": {},
     "output_type": "execute_result"
    }
   ],
   "source": [
    "arr.transpose()"
   ]
  },
  {
   "cell_type": "code",
   "execution_count": 71,
   "id": "f7e5d327-1dec-40f2-8bb1-c93c572cbb9a",
   "metadata": {},
   "outputs": [
    {
     "data": {
      "text/plain": [
       "array([[ 1,  2,  3],\n",
       "       [ 4,  5,  6],\n",
       "       [ 7,  8,  9],\n",
       "       [10, 11, 12]])"
      ]
     },
     "execution_count": 71,
     "metadata": {},
     "output_type": "execute_result"
    }
   ],
   "source": [
    "arr.T.T.T.T"
   ]
  },
  {
   "cell_type": "code",
   "execution_count": null,
   "id": "9014e39f-c393-407c-89e4-564578b10348",
   "metadata": {},
   "outputs": [],
   "source": []
  }
 ],
 "metadata": {
  "kernelspec": {
   "display_name": "Python 3 (ipykernel)",
   "language": "python",
   "name": "python3"
  },
  "language_info": {
   "codemirror_mode": {
    "name": "ipython",
    "version": 3
   },
   "file_extension": ".py",
   "mimetype": "text/x-python",
   "name": "python",
   "nbconvert_exporter": "python",
   "pygments_lexer": "ipython3",
   "version": "3.9.7"
  }
 },
 "nbformat": 4,
 "nbformat_minor": 5
}
